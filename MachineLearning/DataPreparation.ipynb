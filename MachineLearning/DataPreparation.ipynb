{
 "cells": [
  {
   "cell_type": "markdown",
   "metadata": {},
   "source": [
    "# Classification based machine learning for trading in R"
   ]
  },
  {
   "cell_type": "code",
   "execution_count": 19,
   "metadata": {},
   "outputs": [
    {
     "name": "stdout",
     "output_type": "stream",
     "text": [
      "\n",
      "The downloaded binary packages are in\n",
      "\t/var/folders/rh/pfd6hrw52s35skb7d44l36nr0000gn/T//RtmpkYsINl/downloaded_packages\n"
     ]
    }
   ],
   "source": [
    "install.packages(\"lubridate\")\n",
    "library(lubridate)\n",
    "library(quantmod)"
   ]
  },
  {
   "cell_type": "code",
   "execution_count": 25,
   "metadata": {},
   "outputs": [
    {
     "data": {
      "text/html": [
       "<table class=\"dataframe\">\n",
       "<caption>A data.frame: 6 × 5</caption>\n",
       "<thead>\n",
       "\t<tr><th></th><th scope=col>X7.13.2016</th><th scope=col>X53.48</th><th scope=col>X53.61</th><th scope=col>X51.46</th><th scope=col>X51.65</th></tr>\n",
       "\t<tr><th></th><th scope=col>&lt;chr&gt;</th><th scope=col>&lt;dbl&gt;</th><th scope=col>&lt;dbl&gt;</th><th scope=col>&lt;dbl&gt;</th><th scope=col>&lt;dbl&gt;</th></tr>\n",
       "</thead>\n",
       "<tbody>\n",
       "\t<tr><th scope=row>1</th><td>7/14/2016</td><td>52.04</td><td>52.70</td><td>51.85</td><td>52.58</td></tr>\n",
       "\t<tr><th scope=row>2</th><td>7/15/2016</td><td>52.42</td><td>53.23</td><td>51.95</td><td>52.85</td></tr>\n",
       "\t<tr><th scope=row>3</th><td>7/18/2016</td><td>53.03</td><td>53.04</td><td>51.74</td><td>52.14</td></tr>\n",
       "\t<tr><th scope=row>4</th><td>7/19/2016</td><td>52.13</td><td>52.58</td><td>51.48</td><td>51.65</td></tr>\n",
       "\t<tr><th scope=row>5</th><td>7/20/2016</td><td>51.62</td><td>52.33</td><td>50.75</td><td>51.95</td></tr>\n",
       "\t<tr><th scope=row>6</th><td>7/21/2016</td><td>51.85</td><td>52.29</td><td>50.72</td><td>50.95</td></tr>\n",
       "</tbody>\n",
       "</table>\n"
      ],
      "text/latex": [
       "A data.frame: 6 × 5\n",
       "\\begin{tabular}{r|lllll}\n",
       "  & X7.13.2016 & X53.48 & X53.61 & X51.46 & X51.65\\\\\n",
       "  & <chr> & <dbl> & <dbl> & <dbl> & <dbl>\\\\\n",
       "\\hline\n",
       "\t1 & 7/14/2016 & 52.04 & 52.70 & 51.85 & 52.58\\\\\n",
       "\t2 & 7/15/2016 & 52.42 & 53.23 & 51.95 & 52.85\\\\\n",
       "\t3 & 7/18/2016 & 53.03 & 53.04 & 51.74 & 52.14\\\\\n",
       "\t4 & 7/19/2016 & 52.13 & 52.58 & 51.48 & 51.65\\\\\n",
       "\t5 & 7/20/2016 & 51.62 & 52.33 & 50.75 & 51.95\\\\\n",
       "\t6 & 7/21/2016 & 51.85 & 52.29 & 50.72 & 50.95\\\\\n",
       "\\end{tabular}\n"
      ],
      "text/markdown": [
       "\n",
       "A data.frame: 6 × 5\n",
       "\n",
       "| <!--/--> | X7.13.2016 &lt;chr&gt; | X53.48 &lt;dbl&gt; | X53.61 &lt;dbl&gt; | X51.46 &lt;dbl&gt; | X51.65 &lt;dbl&gt; |\n",
       "|---|---|---|---|---|---|\n",
       "| 1 | 7/14/2016 | 52.04 | 52.70 | 51.85 | 52.58 |\n",
       "| 2 | 7/15/2016 | 52.42 | 53.23 | 51.95 | 52.85 |\n",
       "| 3 | 7/18/2016 | 53.03 | 53.04 | 51.74 | 52.14 |\n",
       "| 4 | 7/19/2016 | 52.13 | 52.58 | 51.48 | 51.65 |\n",
       "| 5 | 7/20/2016 | 51.62 | 52.33 | 50.75 | 51.95 |\n",
       "| 6 | 7/21/2016 | 51.85 | 52.29 | 50.72 | 50.95 |\n",
       "\n"
      ],
      "text/plain": [
       "  X7.13.2016 X53.48 X53.61 X51.46 X51.65\n",
       "1 7/14/2016  52.04  52.70  51.85  52.58 \n",
       "2 7/15/2016  52.42  53.23  51.95  52.85 \n",
       "3 7/18/2016  53.03  53.04  51.74  52.14 \n",
       "4 7/19/2016  52.13  52.58  51.48  51.65 \n",
       "5 7/20/2016  51.62  52.33  50.75  51.95 \n",
       "6 7/21/2016  51.85  52.29  50.72  50.95 "
      ]
     },
     "metadata": {},
     "output_type": "display_data"
    }
   ],
   "source": [
    "# Load the data\n",
    "price <- read.csv(\"data/wtiDaily.csv\")\n",
    "head(price)"
   ]
  },
  {
   "cell_type": "code",
   "execution_count": 26,
   "metadata": {},
   "outputs": [],
   "source": [
    "setup_data <- function(pricedata) {\n",
    "    names(pricedata) <- c(\"Date\", \"Open\", \"High\", \"Low\", \"Close\")\n",
    "    dates <- parse_date_time(x = pricedata[,1], \"mdy_HM\", truncated = 3)\n",
    "    pricedata <- pricedata[,2:5]\n",
    "    pricedata <- xts(pricedata, order.by = dates)\n",
    "}"
   ]
  },
  {
   "cell_type": "code",
   "execution_count": 27,
   "metadata": {},
   "outputs": [],
   "source": [
    "price <- setup_data(price)"
   ]
  },
  {
   "cell_type": "code",
   "execution_count": 30,
   "metadata": {},
   "outputs": [
    {
     "name": "stderr",
     "output_type": "stream",
     "text": [
      "Warning message:\n",
      "“timezone of object (UTC) is different than current timezone ().”\n"
     ]
    },
    {
     "data": {
      "text/plain": [
       "            Open  High   Low Close\n",
       "2016-07-14 52.04 52.70 51.85 52.58\n",
       "2016-07-15 52.42 53.23 51.95 52.85\n",
       "2016-07-18 53.03 53.04 51.74 52.14\n",
       "2016-07-19 52.13 52.58 51.48 51.65\n",
       "2016-07-20 51.62 52.33 50.75 51.95\n",
       "2016-07-21 51.85 52.29 50.72 50.95"
      ]
     },
     "metadata": {},
     "output_type": "display_data"
    }
   ],
   "source": [
    "head(price)"
   ]
  },
  {
   "cell_type": "code",
   "execution_count": 31,
   "metadata": {},
   "outputs": [
    {
     "data": {
      "text/plain": [
       "     Index                          Open            High            Low       \n",
       " Min.   :2016-07-14 00:00:00   Min.   :42.66   Min.   :43.31   Min.   :42.16  \n",
       " 1st Qu.:2017-01-20 00:00:00   1st Qu.:49.77   1st Qu.:50.40   1st Qu.:49.06  \n",
       " Median :2017-07-31 00:00:00   Median :54.55   Median :55.42   Median :54.01  \n",
       " Mean   :2017-07-30 05:24:28   Mean   :55.66   Mean   :56.34   Mean   :54.95  \n",
       " 3rd Qu.:2018-02-07 00:00:00   3rd Qu.:61.15   3rd Qu.:61.84   3rd Qu.:60.44  \n",
       " Max.   :2018-08-15 00:00:00   Max.   :73.45   Max.   :74.37   Max.   :72.75  \n",
       "     Close      \n",
       " Min.   :42.64  \n",
       " 1st Qu.:49.77  \n",
       " Median :54.73  \n",
       " Mean   :55.68  \n",
       " 3rd Qu.:61.12  \n",
       " Max.   :73.43  "
      ]
     },
     "metadata": {},
     "output_type": "display_data"
    }
   ],
   "source": [
    "summary(price)"
   ]
  },
  {
   "cell_type": "code",
   "execution_count": 32,
   "metadata": {},
   "outputs": [],
   "source": [
    "ema7 <- EMA(price$Close, n= 7)  # Exponential Moving Average\n",
    "ema20 <- EMA(price$Close, n=20) # Exponential Moving Average"
   ]
  },
  {
   "cell_type": "code",
   "execution_count": 35,
   "metadata": {},
   "outputs": [
    {
     "name": "stderr",
     "output_type": "stream",
     "text": [
      "Warning message:\n",
      "“timezone of object (UTC) is different than current timezone ().”\n"
     ]
    },
    {
     "data": {
      "text/plain": [
       "                EMA\n",
       "2018-08-08 68.39387\n",
       "2018-08-09 67.99790\n",
       "2018-08-10 67.90593\n",
       "2018-08-13 67.72944\n",
       "2018-08-14 67.55708\n",
       "2018-08-15 66.86031"
      ]
     },
     "metadata": {},
     "output_type": "display_data"
    }
   ],
   "source": [
    "tail(ema7)"
   ]
  },
  {
   "cell_type": "code",
   "execution_count": 36,
   "metadata": {},
   "outputs": [
    {
     "name": "stderr",
     "output_type": "stream",
     "text": [
      "Warning message:\n",
      "“timezone of object (UTC) is different than current timezone ().”\n"
     ]
    },
    {
     "data": {
      "text/plain": [
       "                EMA\n",
       "2018-08-08 68.79087\n",
       "2018-08-09 68.60222\n",
       "2018-08-10 68.50963\n",
       "2018-08-13 68.38490\n",
       "2018-08-14 68.25681\n",
       "2018-08-15 67.92474"
      ]
     },
     "metadata": {},
     "output_type": "display_data"
    }
   ],
   "source": [
    "tail(ema20)"
   ]
  },
  {
   "cell_type": "code",
   "execution_count": null,
   "metadata": {},
   "outputs": [],
   "source": []
  }
 ],
 "metadata": {
  "kernelspec": {
   "display_name": "R",
   "language": "R",
   "name": "ir"
  },
  "language_info": {
   "codemirror_mode": "r",
   "file_extension": ".r",
   "mimetype": "text/x-r-source",
   "name": "R",
   "pygments_lexer": "r",
   "version": "4.0.3"
  }
 },
 "nbformat": 4,
 "nbformat_minor": 4
}
