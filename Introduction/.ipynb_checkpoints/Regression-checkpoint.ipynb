{
 "cells": [
  {
   "cell_type": "code",
   "execution_count": 1,
   "metadata": {},
   "outputs": [
    {
     "name": "stderr",
     "output_type": "stream",
     "text": [
      "Loading required package: pacman\n",
      "\n",
      "also installing the dependencies ‘numDeriv’, ‘SQUAREM’, ‘lava’, ‘prodlim’, ‘iterators’, ‘gower’, ‘ipred’, ‘timeDate’, ‘foreach’, ‘ModelMetrics’, ‘reshape2’, ‘recipes’, ‘pROC’\n",
      "\n",
      "\n"
     ]
    },
    {
     "name": "stdout",
     "output_type": "stream",
     "text": [
      "\n",
      "The downloaded binary packages are in\n",
      "\t/var/folders/rh/pfd6hrw52s35skb7d44l36nr0000gn/T//RtmpxmE1be/downloaded_packages\n"
     ]
    },
    {
     "name": "stderr",
     "output_type": "stream",
     "text": [
      "\n",
      "caret installed\n",
      "\n"
     ]
    },
    {
     "name": "stdout",
     "output_type": "stream",
     "text": [
      "\n",
      "The downloaded binary packages are in\n",
      "\t/var/folders/rh/pfd6hrw52s35skb7d44l36nr0000gn/T//RtmpxmE1be/downloaded_packages\n"
     ]
    },
    {
     "name": "stderr",
     "output_type": "stream",
     "text": [
      "\n",
      "lars installed\n",
      "\n"
     ]
    }
   ],
   "source": [
    "# Regression\n",
    "# Use many variables to predict scores on one variable.\n",
    "\n",
    "# INSTALL AND LOAD PACKAGES ################################\n",
    "\n",
    "library(datasets)  # Load base packages manually\n",
    "\n",
    "# Installs pacman (\"package manager\") if needed\n",
    "if (!require(\"pacman\")) install.packages(\"pacman\")\n",
    "\n",
    "# Use pacman to load add-on packages as desired\n",
    "pacman::p_load(pacman, caret, lars, tidyverse)"
   ]
  },
  {
   "cell_type": "code",
   "execution_count": 2,
   "metadata": {},
   "outputs": [
    {
     "data": {
      "text/html": [
       "\n",
       "<table width=\"100%\" summary=\"page for USJudgeRatings {datasets}\"><tr><td>USJudgeRatings {datasets}</td><td style=\"text-align: right;\">R Documentation</td></tr></table>\n",
       "\n",
       "<h2>Lawyers' Ratings of State Judges in the US Superior Court</h2>\n",
       "\n",
       "<h3>Description</h3>\n",
       "\n",
       "<p>Lawyers' ratings of state judges in the US Superior Court.\n",
       "</p>\n",
       "\n",
       "\n",
       "<h3>Usage</h3>\n",
       "\n",
       "<pre>USJudgeRatings</pre>\n",
       "\n",
       "\n",
       "<h3>Format</h3>\n",
       "\n",
       "<p>A data frame containing 43 observations on 12 numeric variables.\n",
       "</p>\n",
       "\n",
       "<table summary=\"Rd table\">\n",
       "<tr>\n",
       " <td style=\"text-align: right;\">\n",
       "    [,1] </td><td style=\"text-align: left;\"> CONT </td><td style=\"text-align: left;\"> Number of contacts of lawyer with judge.</td>\n",
       "</tr>\n",
       "<tr>\n",
       " <td style=\"text-align: right;\">\n",
       "    [,2] </td><td style=\"text-align: left;\"> INTG </td><td style=\"text-align: left;\"> Judicial integrity.</td>\n",
       "</tr>\n",
       "<tr>\n",
       " <td style=\"text-align: right;\">\n",
       "    [,3] </td><td style=\"text-align: left;\"> DMNR </td><td style=\"text-align: left;\"> Demeanor.</td>\n",
       "</tr>\n",
       "<tr>\n",
       " <td style=\"text-align: right;\">\n",
       "    [,4] </td><td style=\"text-align: left;\"> DILG </td><td style=\"text-align: left;\"> Diligence.</td>\n",
       "</tr>\n",
       "<tr>\n",
       " <td style=\"text-align: right;\">\n",
       "    [,5] </td><td style=\"text-align: left;\"> CFMG </td><td style=\"text-align: left;\"> Case flow managing.</td>\n",
       "</tr>\n",
       "<tr>\n",
       " <td style=\"text-align: right;\">\n",
       "    [,6] </td><td style=\"text-align: left;\"> DECI </td><td style=\"text-align: left;\"> Prompt decisions.</td>\n",
       "</tr>\n",
       "<tr>\n",
       " <td style=\"text-align: right;\">\n",
       "    [,7] </td><td style=\"text-align: left;\"> PREP </td><td style=\"text-align: left;\"> Preparation for trial.</td>\n",
       "</tr>\n",
       "<tr>\n",
       " <td style=\"text-align: right;\">\n",
       "    [,8] </td><td style=\"text-align: left;\"> FAMI </td><td style=\"text-align: left;\"> Familiarity with law.</td>\n",
       "</tr>\n",
       "<tr>\n",
       " <td style=\"text-align: right;\">\n",
       "    [,9] </td><td style=\"text-align: left;\"> ORAL </td><td style=\"text-align: left;\"> Sound oral rulings.</td>\n",
       "</tr>\n",
       "<tr>\n",
       " <td style=\"text-align: right;\">\n",
       "    [,10] </td><td style=\"text-align: left;\"> WRIT </td><td style=\"text-align: left;\"> Sound written rulings.</td>\n",
       "</tr>\n",
       "<tr>\n",
       " <td style=\"text-align: right;\">\n",
       "    [,11] </td><td style=\"text-align: left;\"> PHYS </td><td style=\"text-align: left;\"> Physical ability.</td>\n",
       "</tr>\n",
       "<tr>\n",
       " <td style=\"text-align: right;\">\n",
       "    [,12] </td><td style=\"text-align: left;\"> RTEN </td><td style=\"text-align: left;\"> Worthy of retention.\n",
       "  </td>\n",
       "</tr>\n",
       "\n",
       "</table>\n",
       "\n",
       "\n",
       "\n",
       "<h3>Source</h3>\n",
       "\n",
       "<p>New Haven Register, 14 January, 1977 (from John Hartigan).\n",
       "</p>\n",
       "\n",
       "\n",
       "<h3>Examples</h3>\n",
       "\n",
       "<pre>\n",
       "require(graphics)\n",
       "pairs(USJudgeRatings, main = \"USJudgeRatings data\")\n",
       "</pre>\n",
       "\n",
       "<hr /><div style=\"text-align: center;\">[Package <em>datasets</em> version 4.0.3 ]</div>"
      ],
      "text/latex": [
       "\\inputencoding{utf8}\n",
       "\\HeaderA{USJudgeRatings}{Lawyers' Ratings of State Judges in the US Superior Court}{USJudgeRatings}\n",
       "\\keyword{datasets}{USJudgeRatings}\n",
       "%\n",
       "\\begin{Description}\\relax\n",
       "Lawyers' ratings of state judges in the US Superior Court.\n",
       "\\end{Description}\n",
       "%\n",
       "\\begin{Usage}\n",
       "\\begin{verbatim}\n",
       "USJudgeRatings\n",
       "\\end{verbatim}\n",
       "\\end{Usage}\n",
       "%\n",
       "\\begin{Format}\n",
       "A data frame containing 43 observations on 12 numeric variables.\n",
       "\n",
       "\\Tabular{rll}{\n",
       "[,1] & CONT & Number of contacts of lawyer with judge.\\\\{}\n",
       "[,2] & INTG & Judicial integrity.\\\\{}\n",
       "[,3] & DMNR & Demeanor.\\\\{}\n",
       "[,4] & DILG & Diligence.\\\\{}\n",
       "[,5] & CFMG & Case flow managing.\\\\{}\n",
       "[,6] & DECI & Prompt decisions.\\\\{}\n",
       "[,7] & PREP & Preparation for trial.\\\\{}\n",
       "[,8] & FAMI & Familiarity with law.\\\\{}\n",
       "[,9] & ORAL & Sound oral rulings.\\\\{}\n",
       "[,10] & WRIT & Sound written rulings.\\\\{}\n",
       "[,11] & PHYS & Physical ability.\\\\{}\n",
       "[,12] & RTEN & Worthy of retention.\n",
       "}\n",
       "\\end{Format}\n",
       "%\n",
       "\\begin{Source}\\relax\n",
       "New Haven Register, 14 January, 1977 (from John Hartigan).\n",
       "\\end{Source}\n",
       "%\n",
       "\\begin{Examples}\n",
       "\\begin{ExampleCode}\n",
       "require(graphics)\n",
       "pairs(USJudgeRatings, main = \"USJudgeRatings data\")\n",
       "\\end{ExampleCode}\n",
       "\\end{Examples}"
      ],
      "text/plain": [
       "USJudgeRatings            package:datasets             R Documentation\n",
       "\n",
       "_\bL_\ba_\bw_\by_\be_\br_\bs' _\bR_\ba_\bt_\bi_\bn_\bg_\bs _\bo_\bf _\bS_\bt_\ba_\bt_\be _\bJ_\bu_\bd_\bg_\be_\bs _\bi_\bn _\bt_\bh_\be _\bU_\bS _\bS_\bu_\bp_\be_\br_\bi_\bo_\br _\bC_\bo_\bu_\br_\bt\n",
       "\n",
       "_\bD_\be_\bs_\bc_\br_\bi_\bp_\bt_\bi_\bo_\bn:\n",
       "\n",
       "     Lawyers' ratings of state judges in the US Superior Court.\n",
       "\n",
       "_\bU_\bs_\ba_\bg_\be:\n",
       "\n",
       "     USJudgeRatings\n",
       "     \n",
       "_\bF_\bo_\br_\bm_\ba_\bt:\n",
       "\n",
       "     A data frame containing 43 observations on 12 numeric variables.\n",
       "\n",
       "        [,1]  CONT  Number of contacts of lawyer with judge. \n",
       "        [,2]  INTG  Judicial integrity.                      \n",
       "        [,3]  DMNR  Demeanor.                                \n",
       "        [,4]  DILG  Diligence.                               \n",
       "        [,5]  CFMG  Case flow managing.                      \n",
       "        [,6]  DECI  Prompt decisions.                        \n",
       "        [,7]  PREP  Preparation for trial.                   \n",
       "        [,8]  FAMI  Familiarity with law.                    \n",
       "        [,9]  ORAL  Sound oral rulings.                      \n",
       "       [,10]  WRIT  Sound written rulings.                   \n",
       "       [,11]  PHYS  Physical ability.                        \n",
       "       [,12]  RTEN  Worthy of retention.                     \n",
       "      \n",
       "_\bS_\bo_\bu_\br_\bc_\be:\n",
       "\n",
       "     New Haven Register, 14 January, 1977 (from John Hartigan).\n",
       "\n",
       "_\bE_\bx_\ba_\bm_\bp_\bl_\be_\bs:\n",
       "\n",
       "     require(graphics)\n",
       "     pairs(USJudgeRatings, main = \"USJudgeRatings data\")\n",
       "     "
      ]
     },
     "metadata": {},
     "output_type": "display_data"
    }
   ],
   "source": [
    "?USJudgeRatings"
   ]
  },
  {
   "cell_type": "code",
   "execution_count": 3,
   "metadata": {},
   "outputs": [
    {
     "data": {
      "text/html": [
       "<table class=\"dataframe\">\n",
       "<caption>A data.frame: 6 × 12</caption>\n",
       "<thead>\n",
       "\t<tr><th></th><th scope=col>CONT</th><th scope=col>INTG</th><th scope=col>DMNR</th><th scope=col>DILG</th><th scope=col>CFMG</th><th scope=col>DECI</th><th scope=col>PREP</th><th scope=col>FAMI</th><th scope=col>ORAL</th><th scope=col>WRIT</th><th scope=col>PHYS</th><th scope=col>RTEN</th></tr>\n",
       "\t<tr><th></th><th scope=col>&lt;dbl&gt;</th><th scope=col>&lt;dbl&gt;</th><th scope=col>&lt;dbl&gt;</th><th scope=col>&lt;dbl&gt;</th><th scope=col>&lt;dbl&gt;</th><th scope=col>&lt;dbl&gt;</th><th scope=col>&lt;dbl&gt;</th><th scope=col>&lt;dbl&gt;</th><th scope=col>&lt;dbl&gt;</th><th scope=col>&lt;dbl&gt;</th><th scope=col>&lt;dbl&gt;</th><th scope=col>&lt;dbl&gt;</th></tr>\n",
       "</thead>\n",
       "<tbody>\n",
       "\t<tr><th scope=row>AARONSON,L.H.</th><td>5.7</td><td>7.9</td><td>7.7</td><td>7.3</td><td>7.1</td><td>7.4</td><td>7.1</td><td>7.1</td><td>7.1</td><td>7.0</td><td>8.3</td><td>7.8</td></tr>\n",
       "\t<tr><th scope=row>ALEXANDER,J.M.</th><td>6.8</td><td>8.9</td><td>8.8</td><td>8.5</td><td>7.8</td><td>8.1</td><td>8.0</td><td>8.0</td><td>7.8</td><td>7.9</td><td>8.5</td><td>8.7</td></tr>\n",
       "\t<tr><th scope=row>ARMENTANO,A.J.</th><td>7.2</td><td>8.1</td><td>7.8</td><td>7.8</td><td>7.5</td><td>7.6</td><td>7.5</td><td>7.5</td><td>7.3</td><td>7.4</td><td>7.9</td><td>7.8</td></tr>\n",
       "\t<tr><th scope=row>BERDON,R.I.</th><td>6.8</td><td>8.8</td><td>8.5</td><td>8.8</td><td>8.3</td><td>8.5</td><td>8.7</td><td>8.7</td><td>8.4</td><td>8.5</td><td>8.8</td><td>8.7</td></tr>\n",
       "\t<tr><th scope=row>BRACKEN,J.J.</th><td>7.3</td><td>6.4</td><td>4.3</td><td>6.5</td><td>6.0</td><td>6.2</td><td>5.7</td><td>5.7</td><td>5.1</td><td>5.3</td><td>5.5</td><td>4.8</td></tr>\n",
       "\t<tr><th scope=row>BURNS,E.B.</th><td>6.2</td><td>8.8</td><td>8.7</td><td>8.5</td><td>7.9</td><td>8.0</td><td>8.1</td><td>8.0</td><td>8.0</td><td>8.0</td><td>8.6</td><td>8.6</td></tr>\n",
       "</tbody>\n",
       "</table>\n"
      ],
      "text/latex": [
       "A data.frame: 6 × 12\n",
       "\\begin{tabular}{r|llllllllllll}\n",
       "  & CONT & INTG & DMNR & DILG & CFMG & DECI & PREP & FAMI & ORAL & WRIT & PHYS & RTEN\\\\\n",
       "  & <dbl> & <dbl> & <dbl> & <dbl> & <dbl> & <dbl> & <dbl> & <dbl> & <dbl> & <dbl> & <dbl> & <dbl>\\\\\n",
       "\\hline\n",
       "\tAARONSON,L.H. & 5.7 & 7.9 & 7.7 & 7.3 & 7.1 & 7.4 & 7.1 & 7.1 & 7.1 & 7.0 & 8.3 & 7.8\\\\\n",
       "\tALEXANDER,J.M. & 6.8 & 8.9 & 8.8 & 8.5 & 7.8 & 8.1 & 8.0 & 8.0 & 7.8 & 7.9 & 8.5 & 8.7\\\\\n",
       "\tARMENTANO,A.J. & 7.2 & 8.1 & 7.8 & 7.8 & 7.5 & 7.6 & 7.5 & 7.5 & 7.3 & 7.4 & 7.9 & 7.8\\\\\n",
       "\tBERDON,R.I. & 6.8 & 8.8 & 8.5 & 8.8 & 8.3 & 8.5 & 8.7 & 8.7 & 8.4 & 8.5 & 8.8 & 8.7\\\\\n",
       "\tBRACKEN,J.J. & 7.3 & 6.4 & 4.3 & 6.5 & 6.0 & 6.2 & 5.7 & 5.7 & 5.1 & 5.3 & 5.5 & 4.8\\\\\n",
       "\tBURNS,E.B. & 6.2 & 8.8 & 8.7 & 8.5 & 7.9 & 8.0 & 8.1 & 8.0 & 8.0 & 8.0 & 8.6 & 8.6\\\\\n",
       "\\end{tabular}\n"
      ],
      "text/markdown": [
       "\n",
       "A data.frame: 6 × 12\n",
       "\n",
       "| <!--/--> | CONT &lt;dbl&gt; | INTG &lt;dbl&gt; | DMNR &lt;dbl&gt; | DILG &lt;dbl&gt; | CFMG &lt;dbl&gt; | DECI &lt;dbl&gt; | PREP &lt;dbl&gt; | FAMI &lt;dbl&gt; | ORAL &lt;dbl&gt; | WRIT &lt;dbl&gt; | PHYS &lt;dbl&gt; | RTEN &lt;dbl&gt; |\n",
       "|---|---|---|---|---|---|---|---|---|---|---|---|---|\n",
       "| AARONSON,L.H. | 5.7 | 7.9 | 7.7 | 7.3 | 7.1 | 7.4 | 7.1 | 7.1 | 7.1 | 7.0 | 8.3 | 7.8 |\n",
       "| ALEXANDER,J.M. | 6.8 | 8.9 | 8.8 | 8.5 | 7.8 | 8.1 | 8.0 | 8.0 | 7.8 | 7.9 | 8.5 | 8.7 |\n",
       "| ARMENTANO,A.J. | 7.2 | 8.1 | 7.8 | 7.8 | 7.5 | 7.6 | 7.5 | 7.5 | 7.3 | 7.4 | 7.9 | 7.8 |\n",
       "| BERDON,R.I. | 6.8 | 8.8 | 8.5 | 8.8 | 8.3 | 8.5 | 8.7 | 8.7 | 8.4 | 8.5 | 8.8 | 8.7 |\n",
       "| BRACKEN,J.J. | 7.3 | 6.4 | 4.3 | 6.5 | 6.0 | 6.2 | 5.7 | 5.7 | 5.1 | 5.3 | 5.5 | 4.8 |\n",
       "| BURNS,E.B. | 6.2 | 8.8 | 8.7 | 8.5 | 7.9 | 8.0 | 8.1 | 8.0 | 8.0 | 8.0 | 8.6 | 8.6 |\n",
       "\n"
      ],
      "text/plain": [
       "               CONT INTG DMNR DILG CFMG DECI PREP FAMI ORAL WRIT PHYS RTEN\n",
       "AARONSON,L.H.  5.7  7.9  7.7  7.3  7.1  7.4  7.1  7.1  7.1  7.0  8.3  7.8 \n",
       "ALEXANDER,J.M. 6.8  8.9  8.8  8.5  7.8  8.1  8.0  8.0  7.8  7.9  8.5  8.7 \n",
       "ARMENTANO,A.J. 7.2  8.1  7.8  7.8  7.5  7.6  7.5  7.5  7.3  7.4  7.9  7.8 \n",
       "BERDON,R.I.    6.8  8.8  8.5  8.8  8.3  8.5  8.7  8.7  8.4  8.5  8.8  8.7 \n",
       "BRACKEN,J.J.   7.3  6.4  4.3  6.5  6.0  6.2  5.7  5.7  5.1  5.3  5.5  4.8 \n",
       "BURNS,E.B.     6.2  8.8  8.7  8.5  7.9  8.0  8.1  8.0  8.0  8.0  8.6  8.6 "
      ]
     },
     "metadata": {},
     "output_type": "display_data"
    }
   ],
   "source": [
    "head(USJudgeRatings)"
   ]
  },
  {
   "cell_type": "code",
   "execution_count": 4,
   "metadata": {},
   "outputs": [],
   "source": [
    "data <- USJudgeRatings"
   ]
  },
  {
   "cell_type": "code",
   "execution_count": 8,
   "metadata": {},
   "outputs": [
    {
     "data": {
      "text/html": [
       "<table class=\"dataframe\">\n",
       "<caption>A matrix: 43 × 11 of type dbl</caption>\n",
       "<thead>\n",
       "\t<tr><th></th><th scope=col>CONT</th><th scope=col>INTG</th><th scope=col>DMNR</th><th scope=col>DILG</th><th scope=col>CFMG</th><th scope=col>DECI</th><th scope=col>PREP</th><th scope=col>FAMI</th><th scope=col>ORAL</th><th scope=col>WRIT</th><th scope=col>PHYS</th></tr>\n",
       "</thead>\n",
       "<tbody>\n",
       "\t<tr><th scope=row>AARONSON,L.H.</th><td> 5.7</td><td>7.9</td><td>7.7</td><td>7.3</td><td>7.1</td><td>7.4</td><td>7.1</td><td>7.1</td><td>7.1</td><td>7.0</td><td>8.3</td></tr>\n",
       "\t<tr><th scope=row>ALEXANDER,J.M.</th><td> 6.8</td><td>8.9</td><td>8.8</td><td>8.5</td><td>7.8</td><td>8.1</td><td>8.0</td><td>8.0</td><td>7.8</td><td>7.9</td><td>8.5</td></tr>\n",
       "\t<tr><th scope=row>ARMENTANO,A.J.</th><td> 7.2</td><td>8.1</td><td>7.8</td><td>7.8</td><td>7.5</td><td>7.6</td><td>7.5</td><td>7.5</td><td>7.3</td><td>7.4</td><td>7.9</td></tr>\n",
       "\t<tr><th scope=row>BERDON,R.I.</th><td> 6.8</td><td>8.8</td><td>8.5</td><td>8.8</td><td>8.3</td><td>8.5</td><td>8.7</td><td>8.7</td><td>8.4</td><td>8.5</td><td>8.8</td></tr>\n",
       "\t<tr><th scope=row>BRACKEN,J.J.</th><td> 7.3</td><td>6.4</td><td>4.3</td><td>6.5</td><td>6.0</td><td>6.2</td><td>5.7</td><td>5.7</td><td>5.1</td><td>5.3</td><td>5.5</td></tr>\n",
       "\t<tr><th scope=row>BURNS,E.B.</th><td> 6.2</td><td>8.8</td><td>8.7</td><td>8.5</td><td>7.9</td><td>8.0</td><td>8.1</td><td>8.0</td><td>8.0</td><td>8.0</td><td>8.6</td></tr>\n",
       "\t<tr><th scope=row>CALLAHAN,R.J.</th><td>10.6</td><td>9.0</td><td>8.9</td><td>8.7</td><td>8.5</td><td>8.5</td><td>8.5</td><td>8.5</td><td>8.6</td><td>8.4</td><td>9.1</td></tr>\n",
       "\t<tr><th scope=row>COHEN,S.S.</th><td> 7.0</td><td>5.9</td><td>4.9</td><td>5.1</td><td>5.4</td><td>5.9</td><td>4.8</td><td>5.1</td><td>4.7</td><td>4.9</td><td>6.8</td></tr>\n",
       "\t<tr><th scope=row>DALY,J.J.</th><td> 7.3</td><td>8.9</td><td>8.9</td><td>8.7</td><td>8.6</td><td>8.5</td><td>8.4</td><td>8.4</td><td>8.4</td><td>8.5</td><td>8.8</td></tr>\n",
       "\t<tr><th scope=row>DANNEHY,J.F.</th><td> 8.2</td><td>7.9</td><td>6.7</td><td>8.1</td><td>7.9</td><td>8.0</td><td>7.9</td><td>8.1</td><td>7.7</td><td>7.8</td><td>8.5</td></tr>\n",
       "\t<tr><th scope=row>DEAN,H.H.</th><td> 7.0</td><td>8.0</td><td>7.6</td><td>7.4</td><td>7.3</td><td>7.5</td><td>7.1</td><td>7.2</td><td>7.1</td><td>7.2</td><td>8.4</td></tr>\n",
       "\t<tr><th scope=row>DEVITA,H.J.</th><td> 6.5</td><td>8.0</td><td>7.6</td><td>7.2</td><td>7.0</td><td>7.1</td><td>6.9</td><td>7.0</td><td>7.0</td><td>7.1</td><td>6.9</td></tr>\n",
       "\t<tr><th scope=row>DRISCOLL,P.J.</th><td> 6.7</td><td>8.6</td><td>8.2</td><td>6.8</td><td>6.9</td><td>6.6</td><td>7.1</td><td>7.3</td><td>7.2</td><td>7.2</td><td>8.1</td></tr>\n",
       "\t<tr><th scope=row>GRILLO,A.E.</th><td> 7.0</td><td>7.5</td><td>6.4</td><td>6.8</td><td>6.5</td><td>7.0</td><td>6.6</td><td>6.8</td><td>6.3</td><td>6.6</td><td>6.2</td></tr>\n",
       "\t<tr><th scope=row>HADDEN,W.L.JR.</th><td> 6.5</td><td>8.1</td><td>8.0</td><td>8.0</td><td>7.9</td><td>8.0</td><td>7.9</td><td>7.8</td><td>7.8</td><td>7.8</td><td>8.4</td></tr>\n",
       "\t<tr><th scope=row>HAMILL,E.C.</th><td> 7.3</td><td>8.0</td><td>7.4</td><td>7.7</td><td>7.3</td><td>7.3</td><td>7.3</td><td>7.2</td><td>7.1</td><td>7.2</td><td>8.0</td></tr>\n",
       "\t<tr><th scope=row>HEALEY.A.H.</th><td> 8.0</td><td>7.6</td><td>6.6</td><td>7.2</td><td>6.5</td><td>6.5</td><td>6.8</td><td>6.7</td><td>6.4</td><td>6.5</td><td>6.9</td></tr>\n",
       "\t<tr><th scope=row>HULL,T.C.</th><td> 7.7</td><td>7.7</td><td>6.7</td><td>7.5</td><td>7.4</td><td>7.5</td><td>7.1</td><td>7.3</td><td>7.1</td><td>7.3</td><td>8.1</td></tr>\n",
       "\t<tr><th scope=row>LEVINE,I.</th><td> 8.3</td><td>8.2</td><td>7.4</td><td>7.8</td><td>7.7</td><td>7.7</td><td>7.7</td><td>7.8</td><td>7.5</td><td>7.6</td><td>8.0</td></tr>\n",
       "\t<tr><th scope=row>LEVISTER,R.L.</th><td> 9.6</td><td>6.9</td><td>5.7</td><td>6.6</td><td>6.9</td><td>6.6</td><td>6.2</td><td>6.0</td><td>5.8</td><td>5.8</td><td>7.2</td></tr>\n",
       "\t<tr><th scope=row>MARTIN,L.F.</th><td> 7.1</td><td>8.2</td><td>7.7</td><td>7.1</td><td>6.6</td><td>6.6</td><td>6.7</td><td>6.7</td><td>6.8</td><td>6.8</td><td>7.5</td></tr>\n",
       "\t<tr><th scope=row>MCGRATH,J.F.</th><td> 7.6</td><td>7.3</td><td>6.9</td><td>6.8</td><td>6.7</td><td>6.8</td><td>6.4</td><td>6.3</td><td>6.3</td><td>6.3</td><td>7.4</td></tr>\n",
       "\t<tr><th scope=row>MIGNONE,A.F.</th><td> 6.6</td><td>7.4</td><td>6.2</td><td>6.2</td><td>5.4</td><td>5.7</td><td>5.8</td><td>5.9</td><td>5.2</td><td>5.8</td><td>4.7</td></tr>\n",
       "\t<tr><th scope=row>MISSAL,H.M.</th><td> 6.2</td><td>8.3</td><td>8.1</td><td>7.7</td><td>7.4</td><td>7.3</td><td>7.3</td><td>7.3</td><td>7.2</td><td>7.3</td><td>7.8</td></tr>\n",
       "\t<tr><th scope=row>MULVEY,H.M.</th><td> 7.5</td><td>8.7</td><td>8.5</td><td>8.6</td><td>8.5</td><td>8.4</td><td>8.5</td><td>8.5</td><td>8.4</td><td>8.4</td><td>8.7</td></tr>\n",
       "\t<tr><th scope=row>NARUK,H.J.</th><td> 7.8</td><td>8.9</td><td>8.7</td><td>8.9</td><td>8.7</td><td>8.8</td><td>8.9</td><td>9.0</td><td>8.8</td><td>8.9</td><td>9.0</td></tr>\n",
       "\t<tr><th scope=row>O'BRIEN,F.J.</th><td> 7.1</td><td>8.5</td><td>8.3</td><td>8.0</td><td>7.9</td><td>7.9</td><td>7.8</td><td>7.8</td><td>7.8</td><td>7.7</td><td>8.3</td></tr>\n",
       "\t<tr><th scope=row>O'SULLIVAN,T.J.</th><td> 7.5</td><td>9.0</td><td>8.9</td><td>8.7</td><td>8.4</td><td>8.5</td><td>8.4</td><td>8.3</td><td>8.3</td><td>8.3</td><td>8.8</td></tr>\n",
       "\t<tr><th scope=row>PASKEY,L.</th><td> 7.5</td><td>8.1</td><td>7.7</td><td>8.2</td><td>8.0</td><td>8.1</td><td>8.2</td><td>8.4</td><td>8.0</td><td>8.1</td><td>8.4</td></tr>\n",
       "\t<tr><th scope=row>RUBINOW,J.E.</th><td> 7.1</td><td>9.2</td><td>9.0</td><td>9.0</td><td>8.4</td><td>8.6</td><td>9.1</td><td>9.1</td><td>8.9</td><td>9.0</td><td>8.9</td></tr>\n",
       "\t<tr><th scope=row>SADEN.G.A.</th><td> 6.6</td><td>7.4</td><td>6.9</td><td>8.4</td><td>8.0</td><td>7.9</td><td>8.2</td><td>8.4</td><td>7.7</td><td>7.9</td><td>8.4</td></tr>\n",
       "\t<tr><th scope=row>SATANIELLO,A.G.</th><td> 8.4</td><td>8.0</td><td>7.9</td><td>7.9</td><td>7.8</td><td>7.8</td><td>7.6</td><td>7.4</td><td>7.4</td><td>7.4</td><td>8.1</td></tr>\n",
       "\t<tr><th scope=row>SHEA,D.M.</th><td> 6.9</td><td>8.5</td><td>7.8</td><td>8.5</td><td>8.1</td><td>8.2</td><td>8.4</td><td>8.5</td><td>8.1</td><td>8.3</td><td>8.7</td></tr>\n",
       "\t<tr><th scope=row>SHEA,J.F.JR.</th><td> 7.3</td><td>8.9</td><td>8.8</td><td>8.7</td><td>8.4</td><td>8.5</td><td>8.5</td><td>8.5</td><td>8.4</td><td>8.4</td><td>8.8</td></tr>\n",
       "\t<tr><th scope=row>SIDOR,W.J.</th><td> 7.7</td><td>6.2</td><td>5.1</td><td>5.6</td><td>5.6</td><td>5.9</td><td>5.6</td><td>5.6</td><td>5.3</td><td>5.5</td><td>6.3</td></tr>\n",
       "\t<tr><th scope=row>SPEZIALE,J.A.</th><td> 8.5</td><td>8.3</td><td>8.1</td><td>8.3</td><td>8.4</td><td>8.2</td><td>8.2</td><td>8.1</td><td>7.9</td><td>8.0</td><td>8.0</td></tr>\n",
       "\t<tr><th scope=row>SPONZO,M.J.</th><td> 6.9</td><td>8.3</td><td>8.0</td><td>8.1</td><td>7.9</td><td>7.9</td><td>7.9</td><td>7.7</td><td>7.6</td><td>7.7</td><td>8.1</td></tr>\n",
       "\t<tr><th scope=row>STAPLETON,J.F.</th><td> 6.5</td><td>8.2</td><td>7.7</td><td>7.8</td><td>7.6</td><td>7.7</td><td>7.7</td><td>7.7</td><td>7.5</td><td>7.6</td><td>8.5</td></tr>\n",
       "\t<tr><th scope=row>TESTO,R.J.</th><td> 8.3</td><td>7.3</td><td>7.0</td><td>6.8</td><td>7.0</td><td>7.1</td><td>6.7</td><td>6.7</td><td>6.7</td><td>6.7</td><td>8.0</td></tr>\n",
       "\t<tr><th scope=row>TIERNEY,W.L.JR.</th><td> 8.3</td><td>8.2</td><td>7.8</td><td>8.3</td><td>8.4</td><td>8.3</td><td>7.7</td><td>7.6</td><td>7.5</td><td>7.7</td><td>8.1</td></tr>\n",
       "\t<tr><th scope=row>WALL,R.A.</th><td> 9.0</td><td>7.0</td><td>5.9</td><td>7.0</td><td>7.0</td><td>7.2</td><td>6.9</td><td>6.9</td><td>6.5</td><td>6.6</td><td>7.6</td></tr>\n",
       "\t<tr><th scope=row>WRIGHT,D.B.</th><td> 7.1</td><td>8.4</td><td>8.4</td><td>7.7</td><td>7.5</td><td>7.7</td><td>7.8</td><td>8.2</td><td>8.0</td><td>8.1</td><td>8.3</td></tr>\n",
       "\t<tr><th scope=row>ZARRILLI,K.J.</th><td> 8.6</td><td>7.4</td><td>7.0</td><td>7.5</td><td>7.5</td><td>7.7</td><td>7.4</td><td>7.2</td><td>6.9</td><td>7.0</td><td>7.8</td></tr>\n",
       "</tbody>\n",
       "</table>\n"
      ],
      "text/latex": [
       "A matrix: 43 × 11 of type dbl\n",
       "\\begin{tabular}{r|lllllllllll}\n",
       "  & CONT & INTG & DMNR & DILG & CFMG & DECI & PREP & FAMI & ORAL & WRIT & PHYS\\\\\n",
       "\\hline\n",
       "\tAARONSON,L.H. &  5.7 & 7.9 & 7.7 & 7.3 & 7.1 & 7.4 & 7.1 & 7.1 & 7.1 & 7.0 & 8.3\\\\\n",
       "\tALEXANDER,J.M. &  6.8 & 8.9 & 8.8 & 8.5 & 7.8 & 8.1 & 8.0 & 8.0 & 7.8 & 7.9 & 8.5\\\\\n",
       "\tARMENTANO,A.J. &  7.2 & 8.1 & 7.8 & 7.8 & 7.5 & 7.6 & 7.5 & 7.5 & 7.3 & 7.4 & 7.9\\\\\n",
       "\tBERDON,R.I. &  6.8 & 8.8 & 8.5 & 8.8 & 8.3 & 8.5 & 8.7 & 8.7 & 8.4 & 8.5 & 8.8\\\\\n",
       "\tBRACKEN,J.J. &  7.3 & 6.4 & 4.3 & 6.5 & 6.0 & 6.2 & 5.7 & 5.7 & 5.1 & 5.3 & 5.5\\\\\n",
       "\tBURNS,E.B. &  6.2 & 8.8 & 8.7 & 8.5 & 7.9 & 8.0 & 8.1 & 8.0 & 8.0 & 8.0 & 8.6\\\\\n",
       "\tCALLAHAN,R.J. & 10.6 & 9.0 & 8.9 & 8.7 & 8.5 & 8.5 & 8.5 & 8.5 & 8.6 & 8.4 & 9.1\\\\\n",
       "\tCOHEN,S.S. &  7.0 & 5.9 & 4.9 & 5.1 & 5.4 & 5.9 & 4.8 & 5.1 & 4.7 & 4.9 & 6.8\\\\\n",
       "\tDALY,J.J. &  7.3 & 8.9 & 8.9 & 8.7 & 8.6 & 8.5 & 8.4 & 8.4 & 8.4 & 8.5 & 8.8\\\\\n",
       "\tDANNEHY,J.F. &  8.2 & 7.9 & 6.7 & 8.1 & 7.9 & 8.0 & 7.9 & 8.1 & 7.7 & 7.8 & 8.5\\\\\n",
       "\tDEAN,H.H. &  7.0 & 8.0 & 7.6 & 7.4 & 7.3 & 7.5 & 7.1 & 7.2 & 7.1 & 7.2 & 8.4\\\\\n",
       "\tDEVITA,H.J. &  6.5 & 8.0 & 7.6 & 7.2 & 7.0 & 7.1 & 6.9 & 7.0 & 7.0 & 7.1 & 6.9\\\\\n",
       "\tDRISCOLL,P.J. &  6.7 & 8.6 & 8.2 & 6.8 & 6.9 & 6.6 & 7.1 & 7.3 & 7.2 & 7.2 & 8.1\\\\\n",
       "\tGRILLO,A.E. &  7.0 & 7.5 & 6.4 & 6.8 & 6.5 & 7.0 & 6.6 & 6.8 & 6.3 & 6.6 & 6.2\\\\\n",
       "\tHADDEN,W.L.JR. &  6.5 & 8.1 & 8.0 & 8.0 & 7.9 & 8.0 & 7.9 & 7.8 & 7.8 & 7.8 & 8.4\\\\\n",
       "\tHAMILL,E.C. &  7.3 & 8.0 & 7.4 & 7.7 & 7.3 & 7.3 & 7.3 & 7.2 & 7.1 & 7.2 & 8.0\\\\\n",
       "\tHEALEY.A.H. &  8.0 & 7.6 & 6.6 & 7.2 & 6.5 & 6.5 & 6.8 & 6.7 & 6.4 & 6.5 & 6.9\\\\\n",
       "\tHULL,T.C. &  7.7 & 7.7 & 6.7 & 7.5 & 7.4 & 7.5 & 7.1 & 7.3 & 7.1 & 7.3 & 8.1\\\\\n",
       "\tLEVINE,I. &  8.3 & 8.2 & 7.4 & 7.8 & 7.7 & 7.7 & 7.7 & 7.8 & 7.5 & 7.6 & 8.0\\\\\n",
       "\tLEVISTER,R.L. &  9.6 & 6.9 & 5.7 & 6.6 & 6.9 & 6.6 & 6.2 & 6.0 & 5.8 & 5.8 & 7.2\\\\\n",
       "\tMARTIN,L.F. &  7.1 & 8.2 & 7.7 & 7.1 & 6.6 & 6.6 & 6.7 & 6.7 & 6.8 & 6.8 & 7.5\\\\\n",
       "\tMCGRATH,J.F. &  7.6 & 7.3 & 6.9 & 6.8 & 6.7 & 6.8 & 6.4 & 6.3 & 6.3 & 6.3 & 7.4\\\\\n",
       "\tMIGNONE,A.F. &  6.6 & 7.4 & 6.2 & 6.2 & 5.4 & 5.7 & 5.8 & 5.9 & 5.2 & 5.8 & 4.7\\\\\n",
       "\tMISSAL,H.M. &  6.2 & 8.3 & 8.1 & 7.7 & 7.4 & 7.3 & 7.3 & 7.3 & 7.2 & 7.3 & 7.8\\\\\n",
       "\tMULVEY,H.M. &  7.5 & 8.7 & 8.5 & 8.6 & 8.5 & 8.4 & 8.5 & 8.5 & 8.4 & 8.4 & 8.7\\\\\n",
       "\tNARUK,H.J. &  7.8 & 8.9 & 8.7 & 8.9 & 8.7 & 8.8 & 8.9 & 9.0 & 8.8 & 8.9 & 9.0\\\\\n",
       "\tO'BRIEN,F.J. &  7.1 & 8.5 & 8.3 & 8.0 & 7.9 & 7.9 & 7.8 & 7.8 & 7.8 & 7.7 & 8.3\\\\\n",
       "\tO'SULLIVAN,T.J. &  7.5 & 9.0 & 8.9 & 8.7 & 8.4 & 8.5 & 8.4 & 8.3 & 8.3 & 8.3 & 8.8\\\\\n",
       "\tPASKEY,L. &  7.5 & 8.1 & 7.7 & 8.2 & 8.0 & 8.1 & 8.2 & 8.4 & 8.0 & 8.1 & 8.4\\\\\n",
       "\tRUBINOW,J.E. &  7.1 & 9.2 & 9.0 & 9.0 & 8.4 & 8.6 & 9.1 & 9.1 & 8.9 & 9.0 & 8.9\\\\\n",
       "\tSADEN.G.A. &  6.6 & 7.4 & 6.9 & 8.4 & 8.0 & 7.9 & 8.2 & 8.4 & 7.7 & 7.9 & 8.4\\\\\n",
       "\tSATANIELLO,A.G. &  8.4 & 8.0 & 7.9 & 7.9 & 7.8 & 7.8 & 7.6 & 7.4 & 7.4 & 7.4 & 8.1\\\\\n",
       "\tSHEA,D.M. &  6.9 & 8.5 & 7.8 & 8.5 & 8.1 & 8.2 & 8.4 & 8.5 & 8.1 & 8.3 & 8.7\\\\\n",
       "\tSHEA,J.F.JR. &  7.3 & 8.9 & 8.8 & 8.7 & 8.4 & 8.5 & 8.5 & 8.5 & 8.4 & 8.4 & 8.8\\\\\n",
       "\tSIDOR,W.J. &  7.7 & 6.2 & 5.1 & 5.6 & 5.6 & 5.9 & 5.6 & 5.6 & 5.3 & 5.5 & 6.3\\\\\n",
       "\tSPEZIALE,J.A. &  8.5 & 8.3 & 8.1 & 8.3 & 8.4 & 8.2 & 8.2 & 8.1 & 7.9 & 8.0 & 8.0\\\\\n",
       "\tSPONZO,M.J. &  6.9 & 8.3 & 8.0 & 8.1 & 7.9 & 7.9 & 7.9 & 7.7 & 7.6 & 7.7 & 8.1\\\\\n",
       "\tSTAPLETON,J.F. &  6.5 & 8.2 & 7.7 & 7.8 & 7.6 & 7.7 & 7.7 & 7.7 & 7.5 & 7.6 & 8.5\\\\\n",
       "\tTESTO,R.J. &  8.3 & 7.3 & 7.0 & 6.8 & 7.0 & 7.1 & 6.7 & 6.7 & 6.7 & 6.7 & 8.0\\\\\n",
       "\tTIERNEY,W.L.JR. &  8.3 & 8.2 & 7.8 & 8.3 & 8.4 & 8.3 & 7.7 & 7.6 & 7.5 & 7.7 & 8.1\\\\\n",
       "\tWALL,R.A. &  9.0 & 7.0 & 5.9 & 7.0 & 7.0 & 7.2 & 6.9 & 6.9 & 6.5 & 6.6 & 7.6\\\\\n",
       "\tWRIGHT,D.B. &  7.1 & 8.4 & 8.4 & 7.7 & 7.5 & 7.7 & 7.8 & 8.2 & 8.0 & 8.1 & 8.3\\\\\n",
       "\tZARRILLI,K.J. &  8.6 & 7.4 & 7.0 & 7.5 & 7.5 & 7.7 & 7.4 & 7.2 & 6.9 & 7.0 & 7.8\\\\\n",
       "\\end{tabular}\n"
      ],
      "text/markdown": [
       "\n",
       "A matrix: 43 × 11 of type dbl\n",
       "\n",
       "| <!--/--> | CONT | INTG | DMNR | DILG | CFMG | DECI | PREP | FAMI | ORAL | WRIT | PHYS |\n",
       "|---|---|---|---|---|---|---|---|---|---|---|---|\n",
       "| AARONSON,L.H. |  5.7 | 7.9 | 7.7 | 7.3 | 7.1 | 7.4 | 7.1 | 7.1 | 7.1 | 7.0 | 8.3 |\n",
       "| ALEXANDER,J.M. |  6.8 | 8.9 | 8.8 | 8.5 | 7.8 | 8.1 | 8.0 | 8.0 | 7.8 | 7.9 | 8.5 |\n",
       "| ARMENTANO,A.J. |  7.2 | 8.1 | 7.8 | 7.8 | 7.5 | 7.6 | 7.5 | 7.5 | 7.3 | 7.4 | 7.9 |\n",
       "| BERDON,R.I. |  6.8 | 8.8 | 8.5 | 8.8 | 8.3 | 8.5 | 8.7 | 8.7 | 8.4 | 8.5 | 8.8 |\n",
       "| BRACKEN,J.J. |  7.3 | 6.4 | 4.3 | 6.5 | 6.0 | 6.2 | 5.7 | 5.7 | 5.1 | 5.3 | 5.5 |\n",
       "| BURNS,E.B. |  6.2 | 8.8 | 8.7 | 8.5 | 7.9 | 8.0 | 8.1 | 8.0 | 8.0 | 8.0 | 8.6 |\n",
       "| CALLAHAN,R.J. | 10.6 | 9.0 | 8.9 | 8.7 | 8.5 | 8.5 | 8.5 | 8.5 | 8.6 | 8.4 | 9.1 |\n",
       "| COHEN,S.S. |  7.0 | 5.9 | 4.9 | 5.1 | 5.4 | 5.9 | 4.8 | 5.1 | 4.7 | 4.9 | 6.8 |\n",
       "| DALY,J.J. |  7.3 | 8.9 | 8.9 | 8.7 | 8.6 | 8.5 | 8.4 | 8.4 | 8.4 | 8.5 | 8.8 |\n",
       "| DANNEHY,J.F. |  8.2 | 7.9 | 6.7 | 8.1 | 7.9 | 8.0 | 7.9 | 8.1 | 7.7 | 7.8 | 8.5 |\n",
       "| DEAN,H.H. |  7.0 | 8.0 | 7.6 | 7.4 | 7.3 | 7.5 | 7.1 | 7.2 | 7.1 | 7.2 | 8.4 |\n",
       "| DEVITA,H.J. |  6.5 | 8.0 | 7.6 | 7.2 | 7.0 | 7.1 | 6.9 | 7.0 | 7.0 | 7.1 | 6.9 |\n",
       "| DRISCOLL,P.J. |  6.7 | 8.6 | 8.2 | 6.8 | 6.9 | 6.6 | 7.1 | 7.3 | 7.2 | 7.2 | 8.1 |\n",
       "| GRILLO,A.E. |  7.0 | 7.5 | 6.4 | 6.8 | 6.5 | 7.0 | 6.6 | 6.8 | 6.3 | 6.6 | 6.2 |\n",
       "| HADDEN,W.L.JR. |  6.5 | 8.1 | 8.0 | 8.0 | 7.9 | 8.0 | 7.9 | 7.8 | 7.8 | 7.8 | 8.4 |\n",
       "| HAMILL,E.C. |  7.3 | 8.0 | 7.4 | 7.7 | 7.3 | 7.3 | 7.3 | 7.2 | 7.1 | 7.2 | 8.0 |\n",
       "| HEALEY.A.H. |  8.0 | 7.6 | 6.6 | 7.2 | 6.5 | 6.5 | 6.8 | 6.7 | 6.4 | 6.5 | 6.9 |\n",
       "| HULL,T.C. |  7.7 | 7.7 | 6.7 | 7.5 | 7.4 | 7.5 | 7.1 | 7.3 | 7.1 | 7.3 | 8.1 |\n",
       "| LEVINE,I. |  8.3 | 8.2 | 7.4 | 7.8 | 7.7 | 7.7 | 7.7 | 7.8 | 7.5 | 7.6 | 8.0 |\n",
       "| LEVISTER,R.L. |  9.6 | 6.9 | 5.7 | 6.6 | 6.9 | 6.6 | 6.2 | 6.0 | 5.8 | 5.8 | 7.2 |\n",
       "| MARTIN,L.F. |  7.1 | 8.2 | 7.7 | 7.1 | 6.6 | 6.6 | 6.7 | 6.7 | 6.8 | 6.8 | 7.5 |\n",
       "| MCGRATH,J.F. |  7.6 | 7.3 | 6.9 | 6.8 | 6.7 | 6.8 | 6.4 | 6.3 | 6.3 | 6.3 | 7.4 |\n",
       "| MIGNONE,A.F. |  6.6 | 7.4 | 6.2 | 6.2 | 5.4 | 5.7 | 5.8 | 5.9 | 5.2 | 5.8 | 4.7 |\n",
       "| MISSAL,H.M. |  6.2 | 8.3 | 8.1 | 7.7 | 7.4 | 7.3 | 7.3 | 7.3 | 7.2 | 7.3 | 7.8 |\n",
       "| MULVEY,H.M. |  7.5 | 8.7 | 8.5 | 8.6 | 8.5 | 8.4 | 8.5 | 8.5 | 8.4 | 8.4 | 8.7 |\n",
       "| NARUK,H.J. |  7.8 | 8.9 | 8.7 | 8.9 | 8.7 | 8.8 | 8.9 | 9.0 | 8.8 | 8.9 | 9.0 |\n",
       "| O'BRIEN,F.J. |  7.1 | 8.5 | 8.3 | 8.0 | 7.9 | 7.9 | 7.8 | 7.8 | 7.8 | 7.7 | 8.3 |\n",
       "| O'SULLIVAN,T.J. |  7.5 | 9.0 | 8.9 | 8.7 | 8.4 | 8.5 | 8.4 | 8.3 | 8.3 | 8.3 | 8.8 |\n",
       "| PASKEY,L. |  7.5 | 8.1 | 7.7 | 8.2 | 8.0 | 8.1 | 8.2 | 8.4 | 8.0 | 8.1 | 8.4 |\n",
       "| RUBINOW,J.E. |  7.1 | 9.2 | 9.0 | 9.0 | 8.4 | 8.6 | 9.1 | 9.1 | 8.9 | 9.0 | 8.9 |\n",
       "| SADEN.G.A. |  6.6 | 7.4 | 6.9 | 8.4 | 8.0 | 7.9 | 8.2 | 8.4 | 7.7 | 7.9 | 8.4 |\n",
       "| SATANIELLO,A.G. |  8.4 | 8.0 | 7.9 | 7.9 | 7.8 | 7.8 | 7.6 | 7.4 | 7.4 | 7.4 | 8.1 |\n",
       "| SHEA,D.M. |  6.9 | 8.5 | 7.8 | 8.5 | 8.1 | 8.2 | 8.4 | 8.5 | 8.1 | 8.3 | 8.7 |\n",
       "| SHEA,J.F.JR. |  7.3 | 8.9 | 8.8 | 8.7 | 8.4 | 8.5 | 8.5 | 8.5 | 8.4 | 8.4 | 8.8 |\n",
       "| SIDOR,W.J. |  7.7 | 6.2 | 5.1 | 5.6 | 5.6 | 5.9 | 5.6 | 5.6 | 5.3 | 5.5 | 6.3 |\n",
       "| SPEZIALE,J.A. |  8.5 | 8.3 | 8.1 | 8.3 | 8.4 | 8.2 | 8.2 | 8.1 | 7.9 | 8.0 | 8.0 |\n",
       "| SPONZO,M.J. |  6.9 | 8.3 | 8.0 | 8.1 | 7.9 | 7.9 | 7.9 | 7.7 | 7.6 | 7.7 | 8.1 |\n",
       "| STAPLETON,J.F. |  6.5 | 8.2 | 7.7 | 7.8 | 7.6 | 7.7 | 7.7 | 7.7 | 7.5 | 7.6 | 8.5 |\n",
       "| TESTO,R.J. |  8.3 | 7.3 | 7.0 | 6.8 | 7.0 | 7.1 | 6.7 | 6.7 | 6.7 | 6.7 | 8.0 |\n",
       "| TIERNEY,W.L.JR. |  8.3 | 8.2 | 7.8 | 8.3 | 8.4 | 8.3 | 7.7 | 7.6 | 7.5 | 7.7 | 8.1 |\n",
       "| WALL,R.A. |  9.0 | 7.0 | 5.9 | 7.0 | 7.0 | 7.2 | 6.9 | 6.9 | 6.5 | 6.6 | 7.6 |\n",
       "| WRIGHT,D.B. |  7.1 | 8.4 | 8.4 | 7.7 | 7.5 | 7.7 | 7.8 | 8.2 | 8.0 | 8.1 | 8.3 |\n",
       "| ZARRILLI,K.J. |  8.6 | 7.4 | 7.0 | 7.5 | 7.5 | 7.7 | 7.4 | 7.2 | 6.9 | 7.0 | 7.8 |\n",
       "\n"
      ],
      "text/plain": [
       "                CONT INTG DMNR DILG CFMG DECI PREP FAMI ORAL WRIT PHYS\n",
       "AARONSON,L.H.    5.7 7.9  7.7  7.3  7.1  7.4  7.1  7.1  7.1  7.0  8.3 \n",
       "ALEXANDER,J.M.   6.8 8.9  8.8  8.5  7.8  8.1  8.0  8.0  7.8  7.9  8.5 \n",
       "ARMENTANO,A.J.   7.2 8.1  7.8  7.8  7.5  7.6  7.5  7.5  7.3  7.4  7.9 \n",
       "BERDON,R.I.      6.8 8.8  8.5  8.8  8.3  8.5  8.7  8.7  8.4  8.5  8.8 \n",
       "BRACKEN,J.J.     7.3 6.4  4.3  6.5  6.0  6.2  5.7  5.7  5.1  5.3  5.5 \n",
       "BURNS,E.B.       6.2 8.8  8.7  8.5  7.9  8.0  8.1  8.0  8.0  8.0  8.6 \n",
       "CALLAHAN,R.J.   10.6 9.0  8.9  8.7  8.5  8.5  8.5  8.5  8.6  8.4  9.1 \n",
       "COHEN,S.S.       7.0 5.9  4.9  5.1  5.4  5.9  4.8  5.1  4.7  4.9  6.8 \n",
       "DALY,J.J.        7.3 8.9  8.9  8.7  8.6  8.5  8.4  8.4  8.4  8.5  8.8 \n",
       "DANNEHY,J.F.     8.2 7.9  6.7  8.1  7.9  8.0  7.9  8.1  7.7  7.8  8.5 \n",
       "DEAN,H.H.        7.0 8.0  7.6  7.4  7.3  7.5  7.1  7.2  7.1  7.2  8.4 \n",
       "DEVITA,H.J.      6.5 8.0  7.6  7.2  7.0  7.1  6.9  7.0  7.0  7.1  6.9 \n",
       "DRISCOLL,P.J.    6.7 8.6  8.2  6.8  6.9  6.6  7.1  7.3  7.2  7.2  8.1 \n",
       "GRILLO,A.E.      7.0 7.5  6.4  6.8  6.5  7.0  6.6  6.8  6.3  6.6  6.2 \n",
       "HADDEN,W.L.JR.   6.5 8.1  8.0  8.0  7.9  8.0  7.9  7.8  7.8  7.8  8.4 \n",
       "HAMILL,E.C.      7.3 8.0  7.4  7.7  7.3  7.3  7.3  7.2  7.1  7.2  8.0 \n",
       "HEALEY.A.H.      8.0 7.6  6.6  7.2  6.5  6.5  6.8  6.7  6.4  6.5  6.9 \n",
       "HULL,T.C.        7.7 7.7  6.7  7.5  7.4  7.5  7.1  7.3  7.1  7.3  8.1 \n",
       "LEVINE,I.        8.3 8.2  7.4  7.8  7.7  7.7  7.7  7.8  7.5  7.6  8.0 \n",
       "LEVISTER,R.L.    9.6 6.9  5.7  6.6  6.9  6.6  6.2  6.0  5.8  5.8  7.2 \n",
       "MARTIN,L.F.      7.1 8.2  7.7  7.1  6.6  6.6  6.7  6.7  6.8  6.8  7.5 \n",
       "MCGRATH,J.F.     7.6 7.3  6.9  6.8  6.7  6.8  6.4  6.3  6.3  6.3  7.4 \n",
       "MIGNONE,A.F.     6.6 7.4  6.2  6.2  5.4  5.7  5.8  5.9  5.2  5.8  4.7 \n",
       "MISSAL,H.M.      6.2 8.3  8.1  7.7  7.4  7.3  7.3  7.3  7.2  7.3  7.8 \n",
       "MULVEY,H.M.      7.5 8.7  8.5  8.6  8.5  8.4  8.5  8.5  8.4  8.4  8.7 \n",
       "NARUK,H.J.       7.8 8.9  8.7  8.9  8.7  8.8  8.9  9.0  8.8  8.9  9.0 \n",
       "O'BRIEN,F.J.     7.1 8.5  8.3  8.0  7.9  7.9  7.8  7.8  7.8  7.7  8.3 \n",
       "O'SULLIVAN,T.J.  7.5 9.0  8.9  8.7  8.4  8.5  8.4  8.3  8.3  8.3  8.8 \n",
       "PASKEY,L.        7.5 8.1  7.7  8.2  8.0  8.1  8.2  8.4  8.0  8.1  8.4 \n",
       "RUBINOW,J.E.     7.1 9.2  9.0  9.0  8.4  8.6  9.1  9.1  8.9  9.0  8.9 \n",
       "SADEN.G.A.       6.6 7.4  6.9  8.4  8.0  7.9  8.2  8.4  7.7  7.9  8.4 \n",
       "SATANIELLO,A.G.  8.4 8.0  7.9  7.9  7.8  7.8  7.6  7.4  7.4  7.4  8.1 \n",
       "SHEA,D.M.        6.9 8.5  7.8  8.5  8.1  8.2  8.4  8.5  8.1  8.3  8.7 \n",
       "SHEA,J.F.JR.     7.3 8.9  8.8  8.7  8.4  8.5  8.5  8.5  8.4  8.4  8.8 \n",
       "SIDOR,W.J.       7.7 6.2  5.1  5.6  5.6  5.9  5.6  5.6  5.3  5.5  6.3 \n",
       "SPEZIALE,J.A.    8.5 8.3  8.1  8.3  8.4  8.2  8.2  8.1  7.9  8.0  8.0 \n",
       "SPONZO,M.J.      6.9 8.3  8.0  8.1  7.9  7.9  7.9  7.7  7.6  7.7  8.1 \n",
       "STAPLETON,J.F.   6.5 8.2  7.7  7.8  7.6  7.7  7.7  7.7  7.5  7.6  8.5 \n",
       "TESTO,R.J.       8.3 7.3  7.0  6.8  7.0  7.1  6.7  6.7  6.7  6.7  8.0 \n",
       "TIERNEY,W.L.JR.  8.3 8.2  7.8  8.3  8.4  8.3  7.7  7.6  7.5  7.7  8.1 \n",
       "WALL,R.A.        9.0 7.0  5.9  7.0  7.0  7.2  6.9  6.9  6.5  6.6  7.6 \n",
       "WRIGHT,D.B.      7.1 8.4  8.4  7.7  7.5  7.7  7.8  8.2  8.0  8.1  8.3 \n",
       "ZARRILLI,K.J.    8.6 7.4  7.0  7.5  7.5  7.7  7.4  7.2  6.9  7.0  7.8 "
      ]
     },
     "metadata": {},
     "output_type": "display_data"
    }
   ],
   "source": [
    "# Define variable groups\n",
    "x <- as.matrix(data[-12])  # Read all of the columns except 12\n",
    "x"
   ]
  },
  {
   "cell_type": "code",
   "execution_count": 9,
   "metadata": {},
   "outputs": [
    {
     "data": {
      "text/html": [
       "<style>\n",
       ".list-inline {list-style: none; margin:0; padding: 0}\n",
       ".list-inline>li {display: inline-block}\n",
       ".list-inline>li:not(:last-child)::after {content: \"\\00b7\"; padding: 0 .5ex}\n",
       "</style>\n",
       "<ol class=list-inline><li>7.8</li><li>8.7</li><li>7.8</li><li>8.7</li><li>4.8</li><li>8.6</li><li>9</li><li>5</li><li>8.8</li><li>7.9</li><li>7.7</li><li>7.2</li><li>7.7</li><li>6.5</li><li>8</li><li>7.6</li><li>6.7</li><li>7.4</li><li>8</li><li>6</li><li>7.3</li><li>6.6</li><li>5.2</li><li>7.6</li><li>8.7</li><li>9</li><li>8.2</li><li>8.7</li><li>8.1</li><li>9.2</li><li>7.5</li><li>7.9</li><li>8.3</li><li>8.8</li><li>5.3</li><li>8.2</li><li>8</li><li>7.7</li><li>7</li><li>7.9</li><li>6.6</li><li>8.1</li><li>7.1</li></ol>\n"
      ],
      "text/latex": [
       "\\begin{enumerate*}\n",
       "\\item 7.8\n",
       "\\item 8.7\n",
       "\\item 7.8\n",
       "\\item 8.7\n",
       "\\item 4.8\n",
       "\\item 8.6\n",
       "\\item 9\n",
       "\\item 5\n",
       "\\item 8.8\n",
       "\\item 7.9\n",
       "\\item 7.7\n",
       "\\item 7.2\n",
       "\\item 7.7\n",
       "\\item 6.5\n",
       "\\item 8\n",
       "\\item 7.6\n",
       "\\item 6.7\n",
       "\\item 7.4\n",
       "\\item 8\n",
       "\\item 6\n",
       "\\item 7.3\n",
       "\\item 6.6\n",
       "\\item 5.2\n",
       "\\item 7.6\n",
       "\\item 8.7\n",
       "\\item 9\n",
       "\\item 8.2\n",
       "\\item 8.7\n",
       "\\item 8.1\n",
       "\\item 9.2\n",
       "\\item 7.5\n",
       "\\item 7.9\n",
       "\\item 8.3\n",
       "\\item 8.8\n",
       "\\item 5.3\n",
       "\\item 8.2\n",
       "\\item 8\n",
       "\\item 7.7\n",
       "\\item 7\n",
       "\\item 7.9\n",
       "\\item 6.6\n",
       "\\item 8.1\n",
       "\\item 7.1\n",
       "\\end{enumerate*}\n"
      ],
      "text/markdown": [
       "1. 7.8\n",
       "2. 8.7\n",
       "3. 7.8\n",
       "4. 8.7\n",
       "5. 4.8\n",
       "6. 8.6\n",
       "7. 9\n",
       "8. 5\n",
       "9. 8.8\n",
       "10. 7.9\n",
       "11. 7.7\n",
       "12. 7.2\n",
       "13. 7.7\n",
       "14. 6.5\n",
       "15. 8\n",
       "16. 7.6\n",
       "17. 6.7\n",
       "18. 7.4\n",
       "19. 8\n",
       "20. 6\n",
       "21. 7.3\n",
       "22. 6.6\n",
       "23. 5.2\n",
       "24. 7.6\n",
       "25. 8.7\n",
       "26. 9\n",
       "27. 8.2\n",
       "28. 8.7\n",
       "29. 8.1\n",
       "30. 9.2\n",
       "31. 7.5\n",
       "32. 7.9\n",
       "33. 8.3\n",
       "34. 8.8\n",
       "35. 5.3\n",
       "36. 8.2\n",
       "37. 8\n",
       "38. 7.7\n",
       "39. 7\n",
       "40. 7.9\n",
       "41. 6.6\n",
       "42. 8.1\n",
       "43. 7.1\n",
       "\n",
       "\n"
      ],
      "text/plain": [
       " [1] 7.8 8.7 7.8 8.7 4.8 8.6 9.0 5.0 8.8 7.9 7.7 7.2 7.7 6.5 8.0 7.6 6.7 7.4 8.0\n",
       "[20] 6.0 7.3 6.6 5.2 7.6 8.7 9.0 8.2 8.7 8.1 9.2 7.5 7.9 8.3 8.8 5.3 8.2 8.0 7.7\n",
       "[39] 7.0 7.9 6.6 8.1 7.1"
      ]
     },
     "metadata": {},
     "output_type": "display_data"
    }
   ],
   "source": [
    "y <- data[, 12] # Read all of the rows but only column 12\n",
    "y"
   ]
  },
  {
   "cell_type": "code",
   "execution_count": 11,
   "metadata": {},
   "outputs": [],
   "source": [
    "# Regression with simultaneous entry\n",
    "\n",
    "# Using variable groups\n",
    "reg1 <- lm(y ~ x)  # lm refers to the linear model, y as a function of x"
   ]
  },
  {
   "cell_type": "code",
   "execution_count": 12,
   "metadata": {},
   "outputs": [],
   "source": [
    "# Or specify variables individually\n",
    "reg1 <-  lm(RTEN ~ CONT + INTG + DMNR + DILG + CFMG + DECI + PREP + FAMI + ORAL + WRIT + PHYS, data=USJudgeRatings)"
   ]
  },
  {
   "cell_type": "code",
   "execution_count": 13,
   "metadata": {},
   "outputs": [
    {
     "data": {
      "text/plain": [
       "\n",
       "Call:\n",
       "lm(formula = RTEN ~ CONT + INTG + DMNR + DILG + CFMG + DECI + \n",
       "    PREP + FAMI + ORAL + WRIT + PHYS, data = USJudgeRatings)\n",
       "\n",
       "Coefficients:\n",
       "(Intercept)         CONT         INTG         DMNR         DILG         CFMG  \n",
       "   -2.11943      0.01280      0.36484      0.12540      0.06669     -0.19453  \n",
       "       DECI         PREP         FAMI         ORAL         WRIT         PHYS  \n",
       "    0.27829     -0.00196     -0.13579      0.54782     -0.06806      0.26881  \n"
      ]
     },
     "metadata": {},
     "output_type": "display_data"
    }
   ],
   "source": [
    "# Results\n",
    "reg1 # Coefficients only"
   ]
  },
  {
   "cell_type": "code",
   "execution_count": 14,
   "metadata": {},
   "outputs": [
    {
     "data": {
      "text/plain": [
       "\n",
       "Call:\n",
       "lm(formula = RTEN ~ CONT + INTG + DMNR + DILG + CFMG + DECI + \n",
       "    PREP + FAMI + ORAL + WRIT + PHYS, data = USJudgeRatings)\n",
       "\n",
       "Residuals:\n",
       "     Min       1Q   Median       3Q      Max \n",
       "-0.22123 -0.06155 -0.01055  0.05045  0.26079 \n",
       "\n",
       "Coefficients:\n",
       "            Estimate Std. Error t value Pr(>|t|)    \n",
       "(Intercept) -2.11943    0.51904  -4.083 0.000290 ***\n",
       "CONT         0.01280    0.02586   0.495 0.624272    \n",
       "INTG         0.36484    0.12936   2.820 0.008291 ** \n",
       "DMNR         0.12540    0.08971   1.398 0.172102    \n",
       "DILG         0.06669    0.14303   0.466 0.644293    \n",
       "CFMG        -0.19453    0.14779  -1.316 0.197735    \n",
       "DECI         0.27829    0.13826   2.013 0.052883 .  \n",
       "PREP        -0.00196    0.24001  -0.008 0.993536    \n",
       "FAMI        -0.13579    0.26725  -0.508 0.614972    \n",
       "ORAL         0.54782    0.27725   1.976 0.057121 .  \n",
       "WRIT        -0.06806    0.31485  -0.216 0.830269    \n",
       "PHYS         0.26881    0.06213   4.326 0.000146 ***\n",
       "---\n",
       "Signif. codes:  0 ‘***’ 0.001 ‘**’ 0.01 ‘*’ 0.05 ‘.’ 0.1 ‘ ’ 1\n",
       "\n",
       "Residual standard error: 0.1174 on 31 degrees of freedom\n",
       "Multiple R-squared:  0.9916,\tAdjusted R-squared:  0.9886 \n",
       "F-statistic: 332.9 on 11 and 31 DF,  p-value: < 2.2e-16\n"
      ]
     },
     "metadata": {},
     "output_type": "display_data"
    }
   ],
   "source": [
    "summary(reg1) # Inferential tests"
   ]
  },
  {
   "cell_type": "code",
   "execution_count": 15,
   "metadata": {},
   "outputs": [
    {
     "data": {
      "text/html": [
       "<table class=\"dataframe\">\n",
       "<caption>A anova: 12 × 5</caption>\n",
       "<thead>\n",
       "\t<tr><th></th><th scope=col>Df</th><th scope=col>Sum Sq</th><th scope=col>Mean Sq</th><th scope=col>F value</th><th scope=col>Pr(&gt;F)</th></tr>\n",
       "\t<tr><th></th><th scope=col>&lt;int&gt;</th><th scope=col>&lt;dbl&gt;</th><th scope=col>&lt;dbl&gt;</th><th scope=col>&lt;dbl&gt;</th><th scope=col>&lt;dbl&gt;</th></tr>\n",
       "</thead>\n",
       "<tbody>\n",
       "\t<tr><th scope=row>CONT</th><td> 1</td><td> 0.05762378</td><td> 0.05762378</td><td>   4.179420</td><td>4.949035e-02</td></tr>\n",
       "\t<tr><th scope=row>INTG</th><td> 1</td><td>45.09568917</td><td>45.09568917</td><td>3270.765034</td><td>5.373063e-33</td></tr>\n",
       "\t<tr><th scope=row>DMNR</th><td> 1</td><td> 1.30039151</td><td> 1.30039151</td><td>  94.316667</td><td>6.415162e-11</td></tr>\n",
       "\t<tr><th scope=row>DILG</th><td> 1</td><td> 2.34603664</td><td> 2.34603664</td><td> 170.156721</td><td>3.963268e-14</td></tr>\n",
       "\t<tr><th scope=row>CFMG</th><td> 1</td><td> 0.50348149</td><td> 0.50348149</td><td>  36.517230</td><td>1.085994e-06</td></tr>\n",
       "\t<tr><th scope=row>DECI</th><td> 1</td><td> 0.21411445</td><td> 0.21411445</td><td>  15.529601</td><td>4.305743e-04</td></tr>\n",
       "\t<tr><th scope=row>PREP</th><td> 1</td><td> 0.16416641</td><td> 0.16416641</td><td>  11.906897</td><td>1.635271e-03</td></tr>\n",
       "\t<tr><th scope=row>FAMI</th><td> 1</td><td> 0.03860099</td><td> 0.03860099</td><td>   2.799708</td><td>1.043449e-01</td></tr>\n",
       "\t<tr><th scope=row>ORAL</th><td> 1</td><td> 0.43928087</td><td> 0.43928087</td><td>  31.860795</td><td>3.384663e-06</td></tr>\n",
       "\t<tr><th scope=row>WRIT</th><td> 1</td><td> 0.06490890</td><td> 0.06490890</td><td>   4.707806</td><td>3.780964e-02</td></tr>\n",
       "\t<tr><th scope=row>PHYS</th><td> 1</td><td> 0.25806057</td><td> 0.25806057</td><td>  18.716988</td><td>1.463834e-04</td></tr>\n",
       "\t<tr><th scope=row>Residuals</th><td>31</td><td> 0.42741265</td><td> 0.01378750</td><td>         NA</td><td>          NA</td></tr>\n",
       "</tbody>\n",
       "</table>\n"
      ],
      "text/latex": [
       "A anova: 12 × 5\n",
       "\\begin{tabular}{r|lllll}\n",
       "  & Df & Sum Sq & Mean Sq & F value & Pr(>F)\\\\\n",
       "  & <int> & <dbl> & <dbl> & <dbl> & <dbl>\\\\\n",
       "\\hline\n",
       "\tCONT &  1 &  0.05762378 &  0.05762378 &    4.179420 & 4.949035e-02\\\\\n",
       "\tINTG &  1 & 45.09568917 & 45.09568917 & 3270.765034 & 5.373063e-33\\\\\n",
       "\tDMNR &  1 &  1.30039151 &  1.30039151 &   94.316667 & 6.415162e-11\\\\\n",
       "\tDILG &  1 &  2.34603664 &  2.34603664 &  170.156721 & 3.963268e-14\\\\\n",
       "\tCFMG &  1 &  0.50348149 &  0.50348149 &   36.517230 & 1.085994e-06\\\\\n",
       "\tDECI &  1 &  0.21411445 &  0.21411445 &   15.529601 & 4.305743e-04\\\\\n",
       "\tPREP &  1 &  0.16416641 &  0.16416641 &   11.906897 & 1.635271e-03\\\\\n",
       "\tFAMI &  1 &  0.03860099 &  0.03860099 &    2.799708 & 1.043449e-01\\\\\n",
       "\tORAL &  1 &  0.43928087 &  0.43928087 &   31.860795 & 3.384663e-06\\\\\n",
       "\tWRIT &  1 &  0.06490890 &  0.06490890 &    4.707806 & 3.780964e-02\\\\\n",
       "\tPHYS &  1 &  0.25806057 &  0.25806057 &   18.716988 & 1.463834e-04\\\\\n",
       "\tResiduals & 31 &  0.42741265 &  0.01378750 &          NA &           NA\\\\\n",
       "\\end{tabular}\n"
      ],
      "text/markdown": [
       "\n",
       "A anova: 12 × 5\n",
       "\n",
       "| <!--/--> | Df &lt;int&gt; | Sum Sq &lt;dbl&gt; | Mean Sq &lt;dbl&gt; | F value &lt;dbl&gt; | Pr(&gt;F) &lt;dbl&gt; |\n",
       "|---|---|---|---|---|---|\n",
       "| CONT |  1 |  0.05762378 |  0.05762378 |    4.179420 | 4.949035e-02 |\n",
       "| INTG |  1 | 45.09568917 | 45.09568917 | 3270.765034 | 5.373063e-33 |\n",
       "| DMNR |  1 |  1.30039151 |  1.30039151 |   94.316667 | 6.415162e-11 |\n",
       "| DILG |  1 |  2.34603664 |  2.34603664 |  170.156721 | 3.963268e-14 |\n",
       "| CFMG |  1 |  0.50348149 |  0.50348149 |   36.517230 | 1.085994e-06 |\n",
       "| DECI |  1 |  0.21411445 |  0.21411445 |   15.529601 | 4.305743e-04 |\n",
       "| PREP |  1 |  0.16416641 |  0.16416641 |   11.906897 | 1.635271e-03 |\n",
       "| FAMI |  1 |  0.03860099 |  0.03860099 |    2.799708 | 1.043449e-01 |\n",
       "| ORAL |  1 |  0.43928087 |  0.43928087 |   31.860795 | 3.384663e-06 |\n",
       "| WRIT |  1 |  0.06490890 |  0.06490890 |    4.707806 | 3.780964e-02 |\n",
       "| PHYS |  1 |  0.25806057 |  0.25806057 |   18.716988 | 1.463834e-04 |\n",
       "| Residuals | 31 |  0.42741265 |  0.01378750 |          NA |           NA |\n",
       "\n"
      ],
      "text/plain": [
       "          Df Sum Sq      Mean Sq     F value     Pr(>F)      \n",
       "CONT       1  0.05762378  0.05762378    4.179420 4.949035e-02\n",
       "INTG       1 45.09568917 45.09568917 3270.765034 5.373063e-33\n",
       "DMNR       1  1.30039151  1.30039151   94.316667 6.415162e-11\n",
       "DILG       1  2.34603664  2.34603664  170.156721 3.963268e-14\n",
       "CFMG       1  0.50348149  0.50348149   36.517230 1.085994e-06\n",
       "DECI       1  0.21411445  0.21411445   15.529601 4.305743e-04\n",
       "PREP       1  0.16416641  0.16416641   11.906897 1.635271e-03\n",
       "FAMI       1  0.03860099  0.03860099    2.799708 1.043449e-01\n",
       "ORAL       1  0.43928087  0.43928087   31.860795 3.384663e-06\n",
       "WRIT       1  0.06490890  0.06490890    4.707806 3.780964e-02\n",
       "PHYS       1  0.25806057  0.25806057   18.716988 1.463834e-04\n",
       "Residuals 31  0.42741265  0.01378750          NA           NA"
      ]
     },
     "metadata": {},
     "output_type": "display_data"
    }
   ],
   "source": [
    "# More summaries\n",
    "anova(reg1) # Coefficents w/inferential tests"
   ]
  },
  {
   "cell_type": "code",
   "execution_count": 16,
   "metadata": {},
   "outputs": [
    {
     "data": {
      "text/html": [
       "<style>\n",
       ".dl-inline {width: auto; margin:0; padding: 0}\n",
       ".dl-inline>dt, .dl-inline>dd {float: none; width: auto; display: inline-block}\n",
       ".dl-inline>dt::after {content: \":\\0020\"; padding-right: .5ex}\n",
       ".dl-inline>dt:not(:first-of-type) {padding-left: .5ex}\n",
       "</style><dl class=dl-inline><dt>(Intercept)</dt><dd>-2.11942968179329</dd><dt>CONT</dt><dd>0.0127963773918443</dd><dt>INTG</dt><dd>0.364840272014897</dd><dt>DMNR</dt><dd>0.125399137854698</dd><dt>DILG</dt><dd>0.0666909760662325</dd><dt>CFMG</dt><dd>-0.194527026617026</dd><dt>DECI</dt><dd>0.278292931605456</dd><dt>PREP</dt><dd>-0.00196011133376661</dd><dt>FAMI</dt><dd>-0.135790972195284</dd><dt>ORAL</dt><dd>0.547817679832873</dd><dt>WRIT</dt><dd>-0.0680615953914737</dd><dt>PHYS</dt><dd>0.268811919161934</dd></dl>\n"
      ],
      "text/latex": [
       "\\begin{description*}\n",
       "\\item[(Intercept)] -2.11942968179329\n",
       "\\item[CONT] 0.0127963773918443\n",
       "\\item[INTG] 0.364840272014897\n",
       "\\item[DMNR] 0.125399137854698\n",
       "\\item[DILG] 0.0666909760662325\n",
       "\\item[CFMG] -0.194527026617026\n",
       "\\item[DECI] 0.278292931605456\n",
       "\\item[PREP] -0.00196011133376661\n",
       "\\item[FAMI] -0.135790972195284\n",
       "\\item[ORAL] 0.547817679832873\n",
       "\\item[WRIT] -0.0680615953914737\n",
       "\\item[PHYS] 0.268811919161934\n",
       "\\end{description*}\n"
      ],
      "text/markdown": [
       "(Intercept)\n",
       ":   -2.11942968179329CONT\n",
       ":   0.0127963773918443INTG\n",
       ":   0.364840272014897DMNR\n",
       ":   0.125399137854698DILG\n",
       ":   0.0666909760662325CFMG\n",
       ":   -0.194527026617026DECI\n",
       ":   0.278292931605456PREP\n",
       ":   -0.00196011133376661FAMI\n",
       ":   -0.135790972195284ORAL\n",
       ":   0.547817679832873WRIT\n",
       ":   -0.0680615953914737PHYS\n",
       ":   0.268811919161934\n",
       "\n"
      ],
      "text/plain": [
       " (Intercept)         CONT         INTG         DMNR         DILG         CFMG \n",
       "-2.119429682  0.012796377  0.364840272  0.125399138  0.066690976 -0.194527027 \n",
       "        DECI         PREP         FAMI         ORAL         WRIT         PHYS \n",
       " 0.278292932 -0.001960111 -0.135790972  0.547817680 -0.068061595  0.268811919 "
      ]
     },
     "metadata": {},
     "output_type": "display_data"
    }
   ],
   "source": [
    "coef(reg1) # Coefficients (same as reg1)"
   ]
  },
  {
   "cell_type": "code",
   "execution_count": 17,
   "metadata": {},
   "outputs": [
    {
     "data": {
      "text/html": [
       "<table class=\"dataframe\">\n",
       "<caption>A matrix: 12 × 2 of type dbl</caption>\n",
       "<thead>\n",
       "\t<tr><th></th><th scope=col>2.5 %</th><th scope=col>97.5 %</th></tr>\n",
       "</thead>\n",
       "<tbody>\n",
       "\t<tr><th scope=row>(Intercept)</th><td>-3.178010347</td><td>-1.06084902</td></tr>\n",
       "\t<tr><th scope=row>CONT</th><td>-0.039955335</td><td> 0.06554809</td></tr>\n",
       "\t<tr><th scope=row>INTG</th><td> 0.101011150</td><td> 0.62866939</td></tr>\n",
       "\t<tr><th scope=row>DMNR</th><td>-0.057571651</td><td> 0.30836993</td></tr>\n",
       "\t<tr><th scope=row>DILG</th><td>-0.225031708</td><td> 0.35841366</td></tr>\n",
       "\t<tr><th scope=row>CFMG</th><td>-0.495940888</td><td> 0.10688683</td></tr>\n",
       "\t<tr><th scope=row>DECI</th><td>-0.003683181</td><td> 0.56026904</td></tr>\n",
       "\t<tr><th scope=row>PREP</th><td>-0.491456059</td><td> 0.48753584</td></tr>\n",
       "\t<tr><th scope=row>FAMI</th><td>-0.680844080</td><td> 0.40926214</td></tr>\n",
       "\t<tr><th scope=row>ORAL</th><td>-0.017628284</td><td> 1.11326364</td></tr>\n",
       "\t<tr><th scope=row>WRIT</th><td>-0.710196975</td><td> 0.57407378</td></tr>\n",
       "\t<tr><th scope=row>PHYS</th><td> 0.142088434</td><td> 0.39553540</td></tr>\n",
       "</tbody>\n",
       "</table>\n"
      ],
      "text/latex": [
       "A matrix: 12 × 2 of type dbl\n",
       "\\begin{tabular}{r|ll}\n",
       "  & 2.5 \\% & 97.5 \\%\\\\\n",
       "\\hline\n",
       "\t(Intercept) & -3.178010347 & -1.06084902\\\\\n",
       "\tCONT & -0.039955335 &  0.06554809\\\\\n",
       "\tINTG &  0.101011150 &  0.62866939\\\\\n",
       "\tDMNR & -0.057571651 &  0.30836993\\\\\n",
       "\tDILG & -0.225031708 &  0.35841366\\\\\n",
       "\tCFMG & -0.495940888 &  0.10688683\\\\\n",
       "\tDECI & -0.003683181 &  0.56026904\\\\\n",
       "\tPREP & -0.491456059 &  0.48753584\\\\\n",
       "\tFAMI & -0.680844080 &  0.40926214\\\\\n",
       "\tORAL & -0.017628284 &  1.11326364\\\\\n",
       "\tWRIT & -0.710196975 &  0.57407378\\\\\n",
       "\tPHYS &  0.142088434 &  0.39553540\\\\\n",
       "\\end{tabular}\n"
      ],
      "text/markdown": [
       "\n",
       "A matrix: 12 × 2 of type dbl\n",
       "\n",
       "| <!--/--> | 2.5 % | 97.5 % |\n",
       "|---|---|---|\n",
       "| (Intercept) | -3.178010347 | -1.06084902 |\n",
       "| CONT | -0.039955335 |  0.06554809 |\n",
       "| INTG |  0.101011150 |  0.62866939 |\n",
       "| DMNR | -0.057571651 |  0.30836993 |\n",
       "| DILG | -0.225031708 |  0.35841366 |\n",
       "| CFMG | -0.495940888 |  0.10688683 |\n",
       "| DECI | -0.003683181 |  0.56026904 |\n",
       "| PREP | -0.491456059 |  0.48753584 |\n",
       "| FAMI | -0.680844080 |  0.40926214 |\n",
       "| ORAL | -0.017628284 |  1.11326364 |\n",
       "| WRIT | -0.710196975 |  0.57407378 |\n",
       "| PHYS |  0.142088434 |  0.39553540 |\n",
       "\n"
      ],
      "text/plain": [
       "            2.5 %        97.5 %     \n",
       "(Intercept) -3.178010347 -1.06084902\n",
       "CONT        -0.039955335  0.06554809\n",
       "INTG         0.101011150  0.62866939\n",
       "DMNR        -0.057571651  0.30836993\n",
       "DILG        -0.225031708  0.35841366\n",
       "CFMG        -0.495940888  0.10688683\n",
       "DECI        -0.003683181  0.56026904\n",
       "PREP        -0.491456059  0.48753584\n",
       "FAMI        -0.680844080  0.40926214\n",
       "ORAL        -0.017628284  1.11326364\n",
       "WRIT        -0.710196975  0.57407378\n",
       "PHYS         0.142088434  0.39553540"
      ]
     },
     "metadata": {},
     "output_type": "display_data"
    }
   ],
   "source": [
    "confint(reg1) # CI for coefficients"
   ]
  },
  {
   "cell_type": "code",
   "execution_count": 18,
   "metadata": {},
   "outputs": [
    {
     "data": {
      "text/html": [
       "<style>\n",
       ".dl-inline {width: auto; margin:0; padding: 0}\n",
       ".dl-inline>dt, .dl-inline>dd {float: none; width: auto; display: inline-block}\n",
       ".dl-inline>dt::after {content: \":\\0020\"; padding-right: .5ex}\n",
       ".dl-inline>dt:not(:first-of-type) {padding-left: .5ex}\n",
       "</style><dl class=dl-inline><dt>AARONSON,L.H.</dt><dd>0.167428295017039</dd><dt>ALEXANDER,J.M.</dt><dd>0.159904302772648</dd><dt>ARMENTANO,A.J.</dt><dd>0.131818800299846</dd><dt>BERDON,R.I.</dt><dd>-0.0721243487660778</dd><dt>BRACKEN,J.J.</dt><dd>-0.166351358367794</dd><dt>BURNS,E.B.</dt><dd>0.0344455088067191</dd><dt>CALLAHAN,R.J.</dt><dd>-0.122867277430026</dd><dt>COHEN,S.S.</dt><dd>-0.0359845065029777</dd><dt>DALY,J.J.</dt><dd>-0.0414643392723512</dd><dt>DANNEHY,J.F.</dt><dd>0.105484916712862</dd><dt>DEAN,H.H.</dt><dd>0.0315661299294977</dd><dt>DEVITA,H.J.</dt><dd>0.0279048489769715</dd><dt>DRISCOLL,P.J.</dt><dd>-0.00663028435204474</dd><dt>GRILLO,A.E.</dt><dd>0.121511625754102</dd><dt>HADDEN,W.L.JR.</dt><dd>-0.0707169454541448</dd><dt>HAMILL,E.C.</dt><dd>0.0963751277156319</dd><dt>HEALEY.A.H.</dt><dd>0.0966781230775005</dd><dt>HULL,T.C.</dt><dd>0.0587324089912395</dd><dt>LEVINE,I.</dt><dd>0.26079143039293</dd><dt>LEVISTER,R.L.</dt><dd>-0.0613783951036366</dd><dt>MARTIN,L.F.</dt><dd>-0.0105476009574091</dd><dt>MCGRATH,J.F.</dt><dd>-0.0926140135370356</dd><dt>MIGNONE,A.F.</dt><dd>-0.096402214865513</dd><dt>MISSAL,H.M.</dt><dd>-0.0479617599866198</dd><dt>MULVEY,H.M.</dt><dd>0.0279999236295553</dd><dt>NARUK,H.J.</dt><dd>-0.0633662510554083</dd><dt>O'BRIEN,F.J.</dt><dd>-0.0142423076474057</dd><dt>O'SULLIVAN,T.J.</dt><dd>-0.191822695590152</dd><dt>PASKEY,L.</dt><dd>0.0253091921664982</dd><dt>RUBINOW,J.E.</dt><dd>-0.0179725261543001</dd><dt>SADEN.G.A.</dt><dd>-0.0144131915072442</dd><dt>SATANIELLO,A.G.</dt><dd>0.114510447001219</dd><dt>SHEA,D.M.</dt><dd>-0.0617147924758264</dd><dt>SHEA,J.F.JR.</dt><dd>-0.0608608819965288</dd><dt>SIDOR,W.J.</dt><dd>0.0421019215183941</dd><dt>SPEZIALE,J.A.</dt><dd>0.147460609559764</dd><dt>SPONZO,M.J.</dt><dd>0.0421784996965393</dd><dt>STAPLETON,J.F.</dt><dd>-0.221232591120357</dd><dt>TESTO,R.J.</dt><dd>-0.0375263259888015</dd><dt>TIERNEY,W.L.JR.</dt><dd>-0.00075377992952335</dd><dt>WALL,R.A.</dt><dd>-0.00242778449423757</dd><dt>WRIGHT,D.B.</dt><dd>-0.120465634669106</dd><dt>ZARRILLI,K.J.</dt><dd>-0.0603603047944362</dd></dl>\n"
      ],
      "text/latex": [
       "\\begin{description*}\n",
       "\\item[AARONSON,L.H.] 0.167428295017039\n",
       "\\item[ALEXANDER,J.M.] 0.159904302772648\n",
       "\\item[ARMENTANO,A.J.] 0.131818800299846\n",
       "\\item[BERDON,R.I.] -0.0721243487660778\n",
       "\\item[BRACKEN,J.J.] -0.166351358367794\n",
       "\\item[BURNS,E.B.] 0.0344455088067191\n",
       "\\item[CALLAHAN,R.J.] -0.122867277430026\n",
       "\\item[COHEN,S.S.] -0.0359845065029777\n",
       "\\item[DALY,J.J.] -0.0414643392723512\n",
       "\\item[DANNEHY,J.F.] 0.105484916712862\n",
       "\\item[DEAN,H.H.] 0.0315661299294977\n",
       "\\item[DEVITA,H.J.] 0.0279048489769715\n",
       "\\item[DRISCOLL,P.J.] -0.00663028435204474\n",
       "\\item[GRILLO,A.E.] 0.121511625754102\n",
       "\\item[HADDEN,W.L.JR.] -0.0707169454541448\n",
       "\\item[HAMILL,E.C.] 0.0963751277156319\n",
       "\\item[HEALEY.A.H.] 0.0966781230775005\n",
       "\\item[HULL,T.C.] 0.0587324089912395\n",
       "\\item[LEVINE,I.] 0.26079143039293\n",
       "\\item[LEVISTER,R.L.] -0.0613783951036366\n",
       "\\item[MARTIN,L.F.] -0.0105476009574091\n",
       "\\item[MCGRATH,J.F.] -0.0926140135370356\n",
       "\\item[MIGNONE,A.F.] -0.096402214865513\n",
       "\\item[MISSAL,H.M.] -0.0479617599866198\n",
       "\\item[MULVEY,H.M.] 0.0279999236295553\n",
       "\\item[NARUK,H.J.] -0.0633662510554083\n",
       "\\item[O'BRIEN,F.J.] -0.0142423076474057\n",
       "\\item[O'SULLIVAN,T.J.] -0.191822695590152\n",
       "\\item[PASKEY,L.] 0.0253091921664982\n",
       "\\item[RUBINOW,J.E.] -0.0179725261543001\n",
       "\\item[SADEN.G.A.] -0.0144131915072442\n",
       "\\item[SATANIELLO,A.G.] 0.114510447001219\n",
       "\\item[SHEA,D.M.] -0.0617147924758264\n",
       "\\item[SHEA,J.F.JR.] -0.0608608819965288\n",
       "\\item[SIDOR,W.J.] 0.0421019215183941\n",
       "\\item[SPEZIALE,J.A.] 0.147460609559764\n",
       "\\item[SPONZO,M.J.] 0.0421784996965393\n",
       "\\item[STAPLETON,J.F.] -0.221232591120357\n",
       "\\item[TESTO,R.J.] -0.0375263259888015\n",
       "\\item[TIERNEY,W.L.JR.] -0.00075377992952335\n",
       "\\item[WALL,R.A.] -0.00242778449423757\n",
       "\\item[WRIGHT,D.B.] -0.120465634669106\n",
       "\\item[ZARRILLI,K.J.] -0.0603603047944362\n",
       "\\end{description*}\n"
      ],
      "text/markdown": [
       "AARONSON,L.H.\n",
       ":   0.167428295017039ALEXANDER,J.M.\n",
       ":   0.159904302772648ARMENTANO,A.J.\n",
       ":   0.131818800299846BERDON,R.I.\n",
       ":   -0.0721243487660778BRACKEN,J.J.\n",
       ":   -0.166351358367794BURNS,E.B.\n",
       ":   0.0344455088067191CALLAHAN,R.J.\n",
       ":   -0.122867277430026COHEN,S.S.\n",
       ":   -0.0359845065029777DALY,J.J.\n",
       ":   -0.0414643392723512DANNEHY,J.F.\n",
       ":   0.105484916712862DEAN,H.H.\n",
       ":   0.0315661299294977DEVITA,H.J.\n",
       ":   0.0279048489769715DRISCOLL,P.J.\n",
       ":   -0.00663028435204474GRILLO,A.E.\n",
       ":   0.121511625754102HADDEN,W.L.JR.\n",
       ":   -0.0707169454541448HAMILL,E.C.\n",
       ":   0.0963751277156319HEALEY.A.H.\n",
       ":   0.0966781230775005HULL,T.C.\n",
       ":   0.0587324089912395LEVINE,I.\n",
       ":   0.26079143039293LEVISTER,R.L.\n",
       ":   -0.0613783951036366MARTIN,L.F.\n",
       ":   -0.0105476009574091MCGRATH,J.F.\n",
       ":   -0.0926140135370356MIGNONE,A.F.\n",
       ":   -0.096402214865513MISSAL,H.M.\n",
       ":   -0.0479617599866198MULVEY,H.M.\n",
       ":   0.0279999236295553NARUK,H.J.\n",
       ":   -0.0633662510554083O'BRIEN,F.J.\n",
       ":   -0.0142423076474057O'SULLIVAN,T.J.\n",
       ":   -0.191822695590152PASKEY,L.\n",
       ":   0.0253091921664982RUBINOW,J.E.\n",
       ":   -0.0179725261543001SADEN.G.A.\n",
       ":   -0.0144131915072442SATANIELLO,A.G.\n",
       ":   0.114510447001219SHEA,D.M.\n",
       ":   -0.0617147924758264SHEA,J.F.JR.\n",
       ":   -0.0608608819965288SIDOR,W.J.\n",
       ":   0.0421019215183941SPEZIALE,J.A.\n",
       ":   0.147460609559764SPONZO,M.J.\n",
       ":   0.0421784996965393STAPLETON,J.F.\n",
       ":   -0.221232591120357TESTO,R.J.\n",
       ":   -0.0375263259888015TIERNEY,W.L.JR.\n",
       ":   -0.00075377992952335WALL,R.A.\n",
       ":   -0.00242778449423757WRIGHT,D.B.\n",
       ":   -0.120465634669106ZARRILLI,K.J.\n",
       ":   -0.0603603047944362\n",
       "\n"
      ],
      "text/plain": [
       "  AARONSON,L.H.  ALEXANDER,J.M.  ARMENTANO,A.J.     BERDON,R.I.    BRACKEN,J.J. \n",
       "   0.1674282950    0.1599043028    0.1318188003   -0.0721243488   -0.1663513584 \n",
       "     BURNS,E.B.   CALLAHAN,R.J.      COHEN,S.S.       DALY,J.J.    DANNEHY,J.F. \n",
       "   0.0344455088   -0.1228672774   -0.0359845065   -0.0414643393    0.1054849167 \n",
       "      DEAN,H.H.     DEVITA,H.J.   DRISCOLL,P.J.     GRILLO,A.E.  HADDEN,W.L.JR. \n",
       "   0.0315661299    0.0279048490   -0.0066302844    0.1215116258   -0.0707169455 \n",
       "    HAMILL,E.C.     HEALEY.A.H.       HULL,T.C.       LEVINE,I.   LEVISTER,R.L. \n",
       "   0.0963751277    0.0966781231    0.0587324090    0.2607914304   -0.0613783951 \n",
       "    MARTIN,L.F.    MCGRATH,J.F.    MIGNONE,A.F.     MISSAL,H.M.     MULVEY,H.M. \n",
       "  -0.0105476010   -0.0926140135   -0.0964022149   -0.0479617600    0.0279999236 \n",
       "     NARUK,H.J.    O'BRIEN,F.J. O'SULLIVAN,T.J.       PASKEY,L.    RUBINOW,J.E. \n",
       "  -0.0633662511   -0.0142423076   -0.1918226956    0.0253091922   -0.0179725262 \n",
       "     SADEN.G.A. SATANIELLO,A.G.       SHEA,D.M.    SHEA,J.F.JR.      SIDOR,W.J. \n",
       "  -0.0144131915    0.1145104470   -0.0617147925   -0.0608608820    0.0421019215 \n",
       "  SPEZIALE,J.A.     SPONZO,M.J.  STAPLETON,J.F.      TESTO,R.J. TIERNEY,W.L.JR. \n",
       "   0.1474606096    0.0421784997   -0.2212325911   -0.0375263260   -0.0007537799 \n",
       "      WALL,R.A.     WRIGHT,D.B.   ZARRILLI,K.J. \n",
       "  -0.0024277845   -0.1204656347   -0.0603603048 "
      ]
     },
     "metadata": {},
     "output_type": "display_data"
    }
   ],
   "source": [
    "resid(reg1) # Residuals case by case"
   ]
  },
  {
   "cell_type": "code",
   "execution_count": 19,
   "metadata": {},
   "outputs": [
    {
     "data": {
      "image/png": "[encoded data removed]",
      "text/plain": [
       "Plot with title “Histogram of residuals(reg1)”"
      ]
     },
     "metadata": {
      "image/png": {
       "height": 420,
       "width": 420
      }
     },
     "output_type": "display_data"
    }
   ],
   "source": [
    "hist(residuals(reg1)) # Histogram of residuals"
   ]
  },
  {
   "cell_type": "code",
   "execution_count": 20,
   "metadata": {},
   "outputs": [],
   "source": [
    "# Additional models\n",
    "\n",
    "# Use two additional libraries\n",
    "p_load(lars, caret)"
   ]
  },
  {
   "cell_type": "code",
   "execution_count": 21,
   "metadata": {},
   "outputs": [],
   "source": [
    "# Conventional stepwise regression\n",
    "stepwise <- lars(x, y, type=\"stepwise\")"
   ]
  },
  {
   "cell_type": "code",
   "execution_count": 22,
   "metadata": {},
   "outputs": [],
   "source": [
    "# Stagewise: Like stepwise but with better generalizability\n",
    "forward <- lars(x, y, type = \"forward.stagewise\")"
   ]
  },
  {
   "cell_type": "code",
   "execution_count": 24,
   "metadata": {},
   "outputs": [],
   "source": [
    "# LAR: Least Angle Regression\n",
    "lar <- lars(x, y, type=\"lar\")"
   ]
  },
  {
   "cell_type": "code",
   "execution_count": 26,
   "metadata": {},
   "outputs": [],
   "source": [
    "# LASSO: Least Absolute Shrinkage and Selection Operator\n",
    "lasso <- lars(x, y, type=\"lasso\")"
   ]
  },
  {
   "cell_type": "code",
   "execution_count": 34,
   "metadata": {},
   "outputs": [
    {
     "data": {
      "text/html": [
       "<style>\n",
       ".dl-inline {width: auto; margin:0; padding: 0}\n",
       ".dl-inline>dt, .dl-inline>dd {float: none; width: auto; display: inline-block}\n",
       ".dl-inline>dt::after {content: \":\\0020\"; padding-right: .5ex}\n",
       ".dl-inline>dt:not(:first-of-type) {padding-left: .5ex}\n",
       "</style><dl class=dl-inline><dt>stepwise</dt><dd>0.99</dd><dt>forward</dt><dd>0.99</dd><dt>lar</dt><dd>0.99</dd><dt>lasso</dt><dd>0.99</dd></dl>\n"
      ],
      "text/latex": [
       "\\begin{description*}\n",
       "\\item[stepwise] 0.99\n",
       "\\item[forward] 0.99\n",
       "\\item[lar] 0.99\n",
       "\\item[lasso] 0.99\n",
       "\\end{description*}\n"
      ],
      "text/markdown": [
       "stepwise\n",
       ":   0.99forward\n",
       ":   0.99lar\n",
       ":   0.99lasso\n",
       ":   0.99\n",
       "\n"
      ],
      "text/plain": [
       "stepwise  forward      lar    lasso \n",
       "    0.99     0.99     0.99     0.99 "
      ]
     },
     "metadata": {},
     "output_type": "display_data"
    }
   ],
   "source": [
    "# Comparison of R^2 for new models\n",
    "r2comp <- c(stepwise$R2[6], forward$R2[6], lar$R2[6], lasso$R2[6]) %>%\n",
    "            round(2)\n",
    "names(r2comp) <- c(\"stepwise\", \"forward\",\"lar\",\"lasso\")\n",
    "r2comp # Show values of R^2"
   ]
  },
  {
   "cell_type": "code",
   "execution_count": null,
   "metadata": {},
   "outputs": [],
   "source": []
  }
 ],
 "metadata": {
  "kernelspec": {
   "display_name": "R",
   "language": "R",
   "name": "ir"
  },
  "language_info": {
   "codemirror_mode": "r",
   "file_extension": ".r",
   "mimetype": "text/x-r-source",
   "name": "R",
   "pygments_lexer": "r",
   "version": "4.0.3"
  }
 },
 "nbformat": 4,
 "nbformat_minor": 4
}
