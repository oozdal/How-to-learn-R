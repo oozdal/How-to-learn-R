{
 "cells": [
  {
   "cell_type": "code",
   "execution_count": 1,
   "metadata": {},
   "outputs": [
    {
     "name": "stderr",
     "output_type": "stream",
     "text": [
      "also installing the dependencies ‘generics’, ‘tidyselect’\n",
      "\n",
      "\n"
     ]
    },
    {
     "name": "stdout",
     "output_type": "stream",
     "text": [
      "\n",
      "The downloaded binary packages are in\n",
      "\t/var/folders/rh/pfd6hrw52s35skb7d44l36nr0000gn/T//RtmpB6ElpN/downloaded_packages\n"
     ]
    },
    {
     "name": "stderr",
     "output_type": "stream",
     "text": [
      "\n",
      "dplyr installed\n",
      "\n",
      "also installing the dependencies ‘colorspace’, ‘isoband’, ‘hms’, ‘farver’, ‘labeling’, ‘munsell’, ‘viridisLite’, ‘cpp11’, ‘ggplot2’, ‘forcats’, ‘gtable’, ‘plyr’, ‘progress’, ‘RColorBrewer’, ‘reshape’, ‘scales’, ‘tidyr’\n",
      "\n",
      "\n"
     ]
    },
    {
     "name": "stdout",
     "output_type": "stream",
     "text": [
      "\n",
      "The downloaded binary packages are in\n",
      "\t/var/folders/rh/pfd6hrw52s35skb7d44l36nr0000gn/T//RtmpB6ElpN/downloaded_packages\n"
     ]
    },
    {
     "name": "stderr",
     "output_type": "stream",
     "text": [
      "\n",
      "GGally installed\n",
      "\n"
     ]
    },
    {
     "name": "stdout",
     "output_type": "stream",
     "text": [
      "\n",
      "The downloaded binary packages are in\n",
      "\t/var/folders/rh/pfd6hrw52s35skb7d44l36nr0000gn/T//RtmpB6ElpN/downloaded_packages\n"
     ]
    },
    {
     "name": "stderr",
     "output_type": "stream",
     "text": [
      "\n",
      "ggthemes installed\n",
      "\n",
      "also installing the dependencies ‘sass’, ‘jquerylib’, ‘httpuv’, ‘xtable’, ‘sourcetools’, ‘bslib’, ‘shiny’\n",
      "\n",
      "\n"
     ]
    },
    {
     "name": "stdout",
     "output_type": "stream",
     "text": [
      "\n",
      "The downloaded binary packages are in\n",
      "\t/var/folders/rh/pfd6hrw52s35skb7d44l36nr0000gn/T//RtmpB6ElpN/downloaded_packages\n"
     ]
    },
    {
     "name": "stderr",
     "output_type": "stream",
     "text": [
      "\n",
      "ggvis installed\n",
      "\n"
     ]
    },
    {
     "name": "stdout",
     "output_type": "stream",
     "text": [
      "\n",
      "The downloaded binary packages are in\n",
      "\t/var/folders/rh/pfd6hrw52s35skb7d44l36nr0000gn/T//RtmpB6ElpN/downloaded_packages\n"
     ]
    },
    {
     "name": "stderr",
     "output_type": "stream",
     "text": [
      "\n",
      "lubridate installed\n",
      "\n",
      "also installing the dependency ‘data.table’\n",
      "\n",
      "\n"
     ]
    },
    {
     "name": "stdout",
     "output_type": "stream",
     "text": [
      "\n",
      "The downloaded binary packages are in\n",
      "\t/var/folders/rh/pfd6hrw52s35skb7d44l36nr0000gn/T//RtmpB6ElpN/downloaded_packages\n"
     ]
    },
    {
     "name": "stderr",
     "output_type": "stream",
     "text": [
      "\n",
      "plotly installed\n",
      "\n",
      "also installing the dependencies ‘rematch’, ‘readr’, ‘cellranger’, ‘haven’, ‘readxl’, ‘openxlsx’\n",
      "\n",
      "\n"
     ]
    },
    {
     "name": "stdout",
     "output_type": "stream",
     "text": [
      "\n",
      "The downloaded binary packages are in\n",
      "\t/var/folders/rh/pfd6hrw52s35skb7d44l36nr0000gn/T//RtmpB6ElpN/downloaded_packages\n"
     ]
    },
    {
     "name": "stderr",
     "output_type": "stream",
     "text": [
      "\n",
      "rio installed\n",
      "\n",
      "also installing the dependency ‘tinytex’\n",
      "\n",
      "\n"
     ]
    },
    {
     "name": "stdout",
     "output_type": "stream",
     "text": [
      "\n",
      "The downloaded binary packages are in\n",
      "\t/var/folders/rh/pfd6hrw52s35skb7d44l36nr0000gn/T//RtmpB6ElpN/downloaded_packages\n"
     ]
    },
    {
     "name": "stderr",
     "output_type": "stream",
     "text": [
      "\n",
      "rmarkdown installed\n",
      "\n"
     ]
    }
   ],
   "source": [
    "# Importing Data\n",
    "\n",
    "# rio combines all of R's import functions into one simple utility\n",
    "\n",
    "# Packages\n",
    "pacman::p_load(pacman, dplyr, GGally, ggplot2, ggthemes, ggvis, httr, lubridate, plotly, rio, rmarkdown, shiny, stringr, tidyr)"
   ]
  },
  {
   "cell_type": "code",
   "execution_count": 3,
   "metadata": {},
   "outputs": [
    {
     "data": {
      "text/html": [
       "<table class=\"dataframe\">\n",
       "<caption>A data.frame: 6 × 4</caption>\n",
       "<thead>\n",
       "\t<tr><th></th><th scope=col>Month</th><th scope=col>Mozart</th><th scope=col>Beethoven</th><th scope=col>Bach</th></tr>\n",
       "\t<tr><th></th><th scope=col>&lt;chr&gt;</th><th scope=col>&lt;int&gt;</th><th scope=col>&lt;int&gt;</th><th scope=col>&lt;int&gt;</th></tr>\n",
       "</thead>\n",
       "<tbody>\n",
       "\t<tr><th scope=row>1</th><td>2004-01</td><td>12</td><td>8</td><td>15</td></tr>\n",
       "\t<tr><th scope=row>2</th><td>2004-02</td><td>12</td><td>9</td><td>15</td></tr>\n",
       "\t<tr><th scope=row>3</th><td>2004-03</td><td>12</td><td>9</td><td>14</td></tr>\n",
       "\t<tr><th scope=row>4</th><td>2004-04</td><td>12</td><td>8</td><td>14</td></tr>\n",
       "\t<tr><th scope=row>5</th><td>2004-05</td><td>11</td><td>9</td><td>13</td></tr>\n",
       "\t<tr><th scope=row>6</th><td>2004-06</td><td> 9</td><td>7</td><td>12</td></tr>\n",
       "</tbody>\n",
       "</table>\n"
      ],
      "text/latex": [
       "A data.frame: 6 × 4\n",
       "\\begin{tabular}{r|llll}\n",
       "  & Month & Mozart & Beethoven & Bach\\\\\n",
       "  & <chr> & <int> & <int> & <int>\\\\\n",
       "\\hline\n",
       "\t1 & 2004-01 & 12 & 8 & 15\\\\\n",
       "\t2 & 2004-02 & 12 & 9 & 15\\\\\n",
       "\t3 & 2004-03 & 12 & 9 & 14\\\\\n",
       "\t4 & 2004-04 & 12 & 8 & 14\\\\\n",
       "\t5 & 2004-05 & 11 & 9 & 13\\\\\n",
       "\t6 & 2004-06 &  9 & 7 & 12\\\\\n",
       "\\end{tabular}\n"
      ],
      "text/markdown": [
       "\n",
       "A data.frame: 6 × 4\n",
       "\n",
       "| <!--/--> | Month &lt;chr&gt; | Mozart &lt;int&gt; | Beethoven &lt;int&gt; | Bach &lt;int&gt; |\n",
       "|---|---|---|---|---|\n",
       "| 1 | 2004-01 | 12 | 8 | 15 |\n",
       "| 2 | 2004-02 | 12 | 9 | 15 |\n",
       "| 3 | 2004-03 | 12 | 9 | 14 |\n",
       "| 4 | 2004-04 | 12 | 8 | 14 |\n",
       "| 5 | 2004-05 | 11 | 9 | 13 |\n",
       "| 6 | 2004-06 |  9 | 7 | 12 |\n",
       "\n"
      ],
      "text/plain": [
       "  Month   Mozart Beethoven Bach\n",
       "1 2004-01 12     8         15  \n",
       "2 2004-02 12     9         15  \n",
       "3 2004-03 12     9         14  \n",
       "4 2004-04 12     8         14  \n",
       "5 2004-05 11     9         13  \n",
       "6 2004-06  9     7         12  "
      ]
     },
     "metadata": {},
     "output_type": "display_data"
    }
   ],
   "source": [
    "# CSV\n",
    "rio_csv <- import(\"ImportingData_Datasets/mbb.csv\")\n",
    "head(rio_csv)"
   ]
  },
  {
   "cell_type": "code",
   "execution_count": 4,
   "metadata": {},
   "outputs": [
    {
     "data": {
      "text/html": [
       "<table class=\"dataframe\">\n",
       "<caption>A data.frame: 6 × 4</caption>\n",
       "<thead>\n",
       "\t<tr><th></th><th scope=col>Month</th><th scope=col>Mozart</th><th scope=col>Beethoven</th><th scope=col>Bach</th></tr>\n",
       "\t<tr><th></th><th scope=col>&lt;chr&gt;</th><th scope=col>&lt;int&gt;</th><th scope=col>&lt;int&gt;</th><th scope=col>&lt;int&gt;</th></tr>\n",
       "</thead>\n",
       "<tbody>\n",
       "\t<tr><th scope=row>1</th><td>2004-01</td><td>12</td><td>8</td><td>15</td></tr>\n",
       "\t<tr><th scope=row>2</th><td>2004-02</td><td>12</td><td>9</td><td>15</td></tr>\n",
       "\t<tr><th scope=row>3</th><td>2004-03</td><td>12</td><td>9</td><td>14</td></tr>\n",
       "\t<tr><th scope=row>4</th><td>2004-04</td><td>12</td><td>8</td><td>14</td></tr>\n",
       "\t<tr><th scope=row>5</th><td>2004-05</td><td>11</td><td>9</td><td>13</td></tr>\n",
       "\t<tr><th scope=row>6</th><td>2004-06</td><td> 9</td><td>7</td><td>12</td></tr>\n",
       "</tbody>\n",
       "</table>\n"
      ],
      "text/latex": [
       "A data.frame: 6 × 4\n",
       "\\begin{tabular}{r|llll}\n",
       "  & Month & Mozart & Beethoven & Bach\\\\\n",
       "  & <chr> & <int> & <int> & <int>\\\\\n",
       "\\hline\n",
       "\t1 & 2004-01 & 12 & 8 & 15\\\\\n",
       "\t2 & 2004-02 & 12 & 9 & 15\\\\\n",
       "\t3 & 2004-03 & 12 & 9 & 14\\\\\n",
       "\t4 & 2004-04 & 12 & 8 & 14\\\\\n",
       "\t5 & 2004-05 & 11 & 9 & 13\\\\\n",
       "\t6 & 2004-06 &  9 & 7 & 12\\\\\n",
       "\\end{tabular}\n"
      ],
      "text/markdown": [
       "\n",
       "A data.frame: 6 × 4\n",
       "\n",
       "| <!--/--> | Month &lt;chr&gt; | Mozart &lt;int&gt; | Beethoven &lt;int&gt; | Bach &lt;int&gt; |\n",
       "|---|---|---|---|---|\n",
       "| 1 | 2004-01 | 12 | 8 | 15 |\n",
       "| 2 | 2004-02 | 12 | 9 | 15 |\n",
       "| 3 | 2004-03 | 12 | 9 | 14 |\n",
       "| 4 | 2004-04 | 12 | 8 | 14 |\n",
       "| 5 | 2004-05 | 11 | 9 | 13 |\n",
       "| 6 | 2004-06 |  9 | 7 | 12 |\n",
       "\n"
      ],
      "text/plain": [
       "  Month   Mozart Beethoven Bach\n",
       "1 2004-01 12     8         15  \n",
       "2 2004-02 12     9         15  \n",
       "3 2004-03 12     9         14  \n",
       "4 2004-04 12     8         14  \n",
       "5 2004-05 11     9         13  \n",
       "6 2004-06  9     7         12  "
      ]
     },
     "metadata": {},
     "output_type": "display_data"
    }
   ],
   "source": [
    "# TXT\n",
    "rio_txt <- import(\"ImportingData_Datasets/mbb.txt\")\n",
    "head(rio_txt)"
   ]
  },
  {
   "cell_type": "code",
   "execution_count": 6,
   "metadata": {},
   "outputs": [
    {
     "data": {
      "text/html": [
       "<table class=\"dataframe\">\n",
       "<caption>A data.frame: 6 × 4</caption>\n",
       "<thead>\n",
       "\t<tr><th></th><th scope=col>Month</th><th scope=col>Mozart</th><th scope=col>Beethoven</th><th scope=col>Bach</th></tr>\n",
       "\t<tr><th></th><th scope=col>&lt;chr&gt;</th><th scope=col>&lt;dbl&gt;</th><th scope=col>&lt;dbl&gt;</th><th scope=col>&lt;dbl&gt;</th></tr>\n",
       "</thead>\n",
       "<tbody>\n",
       "\t<tr><th scope=row>1</th><td>2004-01</td><td>12</td><td>8</td><td>15</td></tr>\n",
       "\t<tr><th scope=row>2</th><td>2004-02</td><td>12</td><td>9</td><td>15</td></tr>\n",
       "\t<tr><th scope=row>3</th><td>2004-03</td><td>12</td><td>9</td><td>14</td></tr>\n",
       "\t<tr><th scope=row>4</th><td>2004-04</td><td>12</td><td>8</td><td>14</td></tr>\n",
       "\t<tr><th scope=row>5</th><td>2004-05</td><td>11</td><td>9</td><td>13</td></tr>\n",
       "\t<tr><th scope=row>6</th><td>2004-06</td><td> 9</td><td>7</td><td>12</td></tr>\n",
       "</tbody>\n",
       "</table>\n"
      ],
      "text/latex": [
       "A data.frame: 6 × 4\n",
       "\\begin{tabular}{r|llll}\n",
       "  & Month & Mozart & Beethoven & Bach\\\\\n",
       "  & <chr> & <dbl> & <dbl> & <dbl>\\\\\n",
       "\\hline\n",
       "\t1 & 2004-01 & 12 & 8 & 15\\\\\n",
       "\t2 & 2004-02 & 12 & 9 & 15\\\\\n",
       "\t3 & 2004-03 & 12 & 9 & 14\\\\\n",
       "\t4 & 2004-04 & 12 & 8 & 14\\\\\n",
       "\t5 & 2004-05 & 11 & 9 & 13\\\\\n",
       "\t6 & 2004-06 &  9 & 7 & 12\\\\\n",
       "\\end{tabular}\n"
      ],
      "text/markdown": [
       "\n",
       "A data.frame: 6 × 4\n",
       "\n",
       "| <!--/--> | Month &lt;chr&gt; | Mozart &lt;dbl&gt; | Beethoven &lt;dbl&gt; | Bach &lt;dbl&gt; |\n",
       "|---|---|---|---|---|\n",
       "| 1 | 2004-01 | 12 | 8 | 15 |\n",
       "| 2 | 2004-02 | 12 | 9 | 15 |\n",
       "| 3 | 2004-03 | 12 | 9 | 14 |\n",
       "| 4 | 2004-04 | 12 | 8 | 14 |\n",
       "| 5 | 2004-05 | 11 | 9 | 13 |\n",
       "| 6 | 2004-06 |  9 | 7 | 12 |\n",
       "\n"
      ],
      "text/plain": [
       "  Month   Mozart Beethoven Bach\n",
       "1 2004-01 12     8         15  \n",
       "2 2004-02 12     9         15  \n",
       "3 2004-03 12     9         14  \n",
       "4 2004-04 12     8         14  \n",
       "5 2004-05 11     9         13  \n",
       "6 2004-06  9     7         12  "
      ]
     },
     "metadata": {},
     "output_type": "display_data"
    }
   ],
   "source": [
    "# Excel XLSX\n",
    "rio_xlsx <-import(\"ImportingData_Datasets/mbb.xlsx\")\n",
    "head(rio_xlsx)"
   ]
  },
  {
   "cell_type": "code",
   "execution_count": 7,
   "metadata": {},
   "outputs": [
    {
     "ename": "ERROR",
     "evalue": "Error in View(rio_csv): ‘View()’ not yet supported in the Jupyter R kernel\n",
     "output_type": "error",
     "traceback": [
      "Error in View(rio_csv): ‘View()’ not yet supported in the Jupyter R kernel\nTraceback:\n",
      "1. View(rio_csv)",
      "2. stop(sQuote(\"View()\"), \" not yet supported in the Jupyter R kernel\")"
     ]
    }
   ],
   "source": [
    "# Data Viewer\n",
    "?View\n",
    "View(rio_csv)"
   ]
  },
  {
   "cell_type": "code",
   "execution_count": 8,
   "metadata": {},
   "outputs": [
    {
     "name": "stderr",
     "output_type": "stream",
     "text": [
      "Warning message in scan(file = file, what = what, sep = sep, quote = quote, dec = dec, :\n",
      "“number of items read is not a multiple of the number of columns”\n"
     ]
    }
   ],
   "source": [
    "# Text Files\n",
    "r_txt1 <- read.table(\"ImportingData_Datasets/mbb.txt\", header=TRUE)"
   ]
  },
  {
   "cell_type": "code",
   "execution_count": 10,
   "metadata": {},
   "outputs": [
    {
     "data": {
      "text/html": [
       "<table class=\"dataframe\">\n",
       "<caption>A data.frame: 6 × 4</caption>\n",
       "<thead>\n",
       "\t<tr><th></th><th scope=col>Month</th><th scope=col>Mozart</th><th scope=col>Beethoven</th><th scope=col>Bach</th></tr>\n",
       "\t<tr><th></th><th scope=col>&lt;chr&gt;</th><th scope=col>&lt;int&gt;</th><th scope=col>&lt;int&gt;</th><th scope=col>&lt;int&gt;</th></tr>\n",
       "</thead>\n",
       "<tbody>\n",
       "\t<tr><th scope=row>1</th><td>2004-01</td><td>12</td><td>8</td><td>15</td></tr>\n",
       "\t<tr><th scope=row>2</th><td>2004-02</td><td>12</td><td>9</td><td>15</td></tr>\n",
       "\t<tr><th scope=row>3</th><td>2004-03</td><td>12</td><td>9</td><td>14</td></tr>\n",
       "\t<tr><th scope=row>4</th><td>2004-04</td><td>12</td><td>8</td><td>14</td></tr>\n",
       "\t<tr><th scope=row>5</th><td>2004-05</td><td>11</td><td>9</td><td>13</td></tr>\n",
       "\t<tr><th scope=row>6</th><td>2004-06</td><td> 9</td><td>7</td><td>12</td></tr>\n",
       "</tbody>\n",
       "</table>\n"
      ],
      "text/latex": [
       "A data.frame: 6 × 4\n",
       "\\begin{tabular}{r|llll}\n",
       "  & Month & Mozart & Beethoven & Bach\\\\\n",
       "  & <chr> & <int> & <int> & <int>\\\\\n",
       "\\hline\n",
       "\t1 & 2004-01 & 12 & 8 & 15\\\\\n",
       "\t2 & 2004-02 & 12 & 9 & 15\\\\\n",
       "\t3 & 2004-03 & 12 & 9 & 14\\\\\n",
       "\t4 & 2004-04 & 12 & 8 & 14\\\\\n",
       "\t5 & 2004-05 & 11 & 9 & 13\\\\\n",
       "\t6 & 2004-06 &  9 & 7 & 12\\\\\n",
       "\\end{tabular}\n"
      ],
      "text/markdown": [
       "\n",
       "A data.frame: 6 × 4\n",
       "\n",
       "| <!--/--> | Month &lt;chr&gt; | Mozart &lt;int&gt; | Beethoven &lt;int&gt; | Bach &lt;int&gt; |\n",
       "|---|---|---|---|---|\n",
       "| 1 | 2004-01 | 12 | 8 | 15 |\n",
       "| 2 | 2004-02 | 12 | 9 | 15 |\n",
       "| 3 | 2004-03 | 12 | 9 | 14 |\n",
       "| 4 | 2004-04 | 12 | 8 | 14 |\n",
       "| 5 | 2004-05 | 11 | 9 | 13 |\n",
       "| 6 | 2004-06 |  9 | 7 | 12 |\n",
       "\n"
      ],
      "text/plain": [
       "  Month   Mozart Beethoven Bach\n",
       "1 2004-01 12     8         15  \n",
       "2 2004-02 12     9         15  \n",
       "3 2004-03 12     9         14  \n",
       "4 2004-04 12     8         14  \n",
       "5 2004-05 11     9         13  \n",
       "6 2004-06  9     7         12  "
      ]
     },
     "metadata": {},
     "output_type": "display_data"
    }
   ],
   "source": [
    "r_txt1 <- read.table(\"ImportingData_Datasets/mbb.txt\", header=TRUE, sep=\"\\t\")\n",
    "head(r_txt1)"
   ]
  },
  {
   "cell_type": "code",
   "execution_count": 14,
   "metadata": {},
   "outputs": [
    {
     "data": {
      "text/html": [
       "<table class=\"dataframe\">\n",
       "<caption>A data.frame: 6 × 4</caption>\n",
       "<thead>\n",
       "\t<tr><th></th><th scope=col>Month</th><th scope=col>Mozart</th><th scope=col>Beethoven</th><th scope=col>Bach</th></tr>\n",
       "\t<tr><th></th><th scope=col>&lt;chr&gt;</th><th scope=col>&lt;int&gt;</th><th scope=col>&lt;int&gt;</th><th scope=col>&lt;int&gt;</th></tr>\n",
       "</thead>\n",
       "<tbody>\n",
       "\t<tr><th scope=row>1</th><td>2004-01</td><td>12</td><td>8</td><td>15</td></tr>\n",
       "\t<tr><th scope=row>2</th><td>2004-02</td><td>12</td><td>9</td><td>15</td></tr>\n",
       "\t<tr><th scope=row>3</th><td>2004-03</td><td>12</td><td>9</td><td>14</td></tr>\n",
       "\t<tr><th scope=row>4</th><td>2004-04</td><td>12</td><td>8</td><td>14</td></tr>\n",
       "\t<tr><th scope=row>5</th><td>2004-05</td><td>11</td><td>9</td><td>13</td></tr>\n",
       "\t<tr><th scope=row>6</th><td>2004-06</td><td> 9</td><td>7</td><td>12</td></tr>\n",
       "</tbody>\n",
       "</table>\n"
      ],
      "text/latex": [
       "A data.frame: 6 × 4\n",
       "\\begin{tabular}{r|llll}\n",
       "  & Month & Mozart & Beethoven & Bach\\\\\n",
       "  & <chr> & <int> & <int> & <int>\\\\\n",
       "\\hline\n",
       "\t1 & 2004-01 & 12 & 8 & 15\\\\\n",
       "\t2 & 2004-02 & 12 & 9 & 15\\\\\n",
       "\t3 & 2004-03 & 12 & 9 & 14\\\\\n",
       "\t4 & 2004-04 & 12 & 8 & 14\\\\\n",
       "\t5 & 2004-05 & 11 & 9 & 13\\\\\n",
       "\t6 & 2004-06 &  9 & 7 & 12\\\\\n",
       "\\end{tabular}\n"
      ],
      "text/markdown": [
       "\n",
       "A data.frame: 6 × 4\n",
       "\n",
       "| <!--/--> | Month &lt;chr&gt; | Mozart &lt;int&gt; | Beethoven &lt;int&gt; | Bach &lt;int&gt; |\n",
       "|---|---|---|---|---|\n",
       "| 1 | 2004-01 | 12 | 8 | 15 |\n",
       "| 2 | 2004-02 | 12 | 9 | 15 |\n",
       "| 3 | 2004-03 | 12 | 9 | 14 |\n",
       "| 4 | 2004-04 | 12 | 8 | 14 |\n",
       "| 5 | 2004-05 | 11 | 9 | 13 |\n",
       "| 6 | 2004-06 |  9 | 7 | 12 |\n",
       "\n"
      ],
      "text/plain": [
       "  Month   Mozart Beethoven Bach\n",
       "1 2004-01 12     8         15  \n",
       "2 2004-02 12     9         15  \n",
       "3 2004-03 12     9         14  \n",
       "4 2004-04 12     8         14  \n",
       "5 2004-05 11     9         13  \n",
       "6 2004-06  9     7         12  "
      ]
     },
     "metadata": {},
     "output_type": "display_data"
    }
   ],
   "source": [
    "# CSV Files\n",
    "trends.csv <- read.csv(\"ImportingData_Datasets/mbb.csv\", header=TRUE)\n",
    "head(trends.csv)"
   ]
  },
  {
   "cell_type": "code",
   "execution_count": null,
   "metadata": {},
   "outputs": [],
   "source": []
  }
 ],
 "metadata": {
  "kernelspec": {
   "display_name": "R",
   "language": "R",
   "name": "ir"
  },
  "language_info": {
   "codemirror_mode": "r",
   "file_extension": ".r",
   "mimetype": "text/x-r-source",
   "name": "R",
   "pygments_lexer": "r",
   "version": "4.0.3"
  }
 },
 "nbformat": 4,
 "nbformat_minor": 2
}
